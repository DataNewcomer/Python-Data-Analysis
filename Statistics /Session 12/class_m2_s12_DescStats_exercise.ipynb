{
 "cells": [
  {
   "cell_type": "markdown",
   "metadata": {},
   "source": [
    "# **Modul 2: Data Analysis**\n",
    "# Descriptive Statistics"
   ]
  },
  {
   "cell_type": "code",
   "execution_count": 1,
   "metadata": {},
   "outputs": [],
   "source": [
    "import numpy as np\n",
    "import pandas as pd\n",
    "import scipy.stats as stats\n",
    "import seaborn as sns\n"
   ]
  },
  {
   "cell_type": "markdown",
   "metadata": {},
   "source": [
    "# **No.1**"
   ]
  },
  {
   "cell_type": "code",
   "execution_count": 2,
   "metadata": {},
   "outputs": [
    {
     "data": {
      "text/html": [
       "<div>\n",
       "<style scoped>\n",
       "    .dataframe tbody tr th:only-of-type {\n",
       "        vertical-align: middle;\n",
       "    }\n",
       "\n",
       "    .dataframe tbody tr th {\n",
       "        vertical-align: top;\n",
       "    }\n",
       "\n",
       "    .dataframe thead th {\n",
       "        text-align: right;\n",
       "    }\n",
       "</style>\n",
       "<table border=\"1\" class=\"dataframe\">\n",
       "  <thead>\n",
       "    <tr style=\"text-align: right;\">\n",
       "      <th></th>\n",
       "      <th>Unnamed: 0</th>\n",
       "      <th>brand</th>\n",
       "      <th>model</th>\n",
       "      <th>year</th>\n",
       "      <th>price</th>\n",
       "      <th>transmission</th>\n",
       "      <th>mileage</th>\n",
       "      <th>fuelType</th>\n",
       "      <th>tax</th>\n",
       "      <th>mpg</th>\n",
       "      <th>engineSize</th>\n",
       "    </tr>\n",
       "  </thead>\n",
       "  <tbody>\n",
       "    <tr>\n",
       "      <th>0</th>\n",
       "      <td>0</td>\n",
       "      <td>Audi</td>\n",
       "      <td>A1</td>\n",
       "      <td>2017</td>\n",
       "      <td>12500</td>\n",
       "      <td>Manual</td>\n",
       "      <td>15735</td>\n",
       "      <td>Petrol</td>\n",
       "      <td>150</td>\n",
       "      <td>55.4</td>\n",
       "      <td>1.4</td>\n",
       "    </tr>\n",
       "    <tr>\n",
       "      <th>1</th>\n",
       "      <td>1</td>\n",
       "      <td>Audi</td>\n",
       "      <td>A6</td>\n",
       "      <td>2016</td>\n",
       "      <td>16500</td>\n",
       "      <td>Automatic</td>\n",
       "      <td>36203</td>\n",
       "      <td>Diesel</td>\n",
       "      <td>20</td>\n",
       "      <td>64.2</td>\n",
       "      <td>2.0</td>\n",
       "    </tr>\n",
       "    <tr>\n",
       "      <th>2</th>\n",
       "      <td>2</td>\n",
       "      <td>Audi</td>\n",
       "      <td>A1</td>\n",
       "      <td>2016</td>\n",
       "      <td>11000</td>\n",
       "      <td>Manual</td>\n",
       "      <td>29946</td>\n",
       "      <td>Petrol</td>\n",
       "      <td>30</td>\n",
       "      <td>55.4</td>\n",
       "      <td>1.4</td>\n",
       "    </tr>\n",
       "    <tr>\n",
       "      <th>3</th>\n",
       "      <td>3</td>\n",
       "      <td>Audi</td>\n",
       "      <td>A4</td>\n",
       "      <td>2017</td>\n",
       "      <td>16800</td>\n",
       "      <td>Automatic</td>\n",
       "      <td>25952</td>\n",
       "      <td>Diesel</td>\n",
       "      <td>145</td>\n",
       "      <td>67.3</td>\n",
       "      <td>2.0</td>\n",
       "    </tr>\n",
       "    <tr>\n",
       "      <th>4</th>\n",
       "      <td>4</td>\n",
       "      <td>Audi</td>\n",
       "      <td>A3</td>\n",
       "      <td>2019</td>\n",
       "      <td>17300</td>\n",
       "      <td>Manual</td>\n",
       "      <td>1998</td>\n",
       "      <td>Petrol</td>\n",
       "      <td>145</td>\n",
       "      <td>49.6</td>\n",
       "      <td>1.0</td>\n",
       "    </tr>\n",
       "  </tbody>\n",
       "</table>\n",
       "</div>"
      ],
      "text/plain": [
       "   Unnamed: 0 brand model  year  price transmission  mileage fuelType  tax  \\\n",
       "0           0  Audi    A1  2017  12500       Manual    15735   Petrol  150   \n",
       "1           1  Audi    A6  2016  16500    Automatic    36203   Diesel   20   \n",
       "2           2  Audi    A1  2016  11000       Manual    29946   Petrol   30   \n",
       "3           3  Audi    A4  2017  16800    Automatic    25952   Diesel  145   \n",
       "4           4  Audi    A3  2019  17300       Manual     1998   Petrol  145   \n",
       "\n",
       "    mpg  engineSize  \n",
       "0  55.4         1.4  \n",
       "1  64.2         2.0  \n",
       "2  55.4         1.4  \n",
       "3  67.3         2.0  \n",
       "4  49.6         1.0  "
      ]
     },
     "execution_count": 2,
     "metadata": {},
     "output_type": "execute_result"
    }
   ],
   "source": [
    "# Load dataset all_cars.csv yang telah Anda buat.\n",
    "# Ubah nama kolom 'Unnamed: 0' menjadi 'id' jika ada!\n",
    "# Jika tidak ada, lakukan reset index. Kemudian kolom paling kiri bernama 'index' ubah menjadi 'id'!\n",
    "\n",
    "# Load dataset: all_cars.csv\n",
    "df_car = pd.read_csv('all_cars.csv')\n",
    "df_car.head()"
   ]
  },
  {
   "cell_type": "code",
   "execution_count": 3,
   "metadata": {},
   "outputs": [
    {
     "data": {
      "text/html": [
       "<div>\n",
       "<style scoped>\n",
       "    .dataframe tbody tr th:only-of-type {\n",
       "        vertical-align: middle;\n",
       "    }\n",
       "\n",
       "    .dataframe tbody tr th {\n",
       "        vertical-align: top;\n",
       "    }\n",
       "\n",
       "    .dataframe thead th {\n",
       "        text-align: right;\n",
       "    }\n",
       "</style>\n",
       "<table border=\"1\" class=\"dataframe\">\n",
       "  <thead>\n",
       "    <tr style=\"text-align: right;\">\n",
       "      <th></th>\n",
       "      <th>id</th>\n",
       "      <th>brand</th>\n",
       "      <th>model</th>\n",
       "      <th>year</th>\n",
       "      <th>price</th>\n",
       "      <th>transmission</th>\n",
       "      <th>mileage</th>\n",
       "      <th>fuelType</th>\n",
       "      <th>tax</th>\n",
       "      <th>mpg</th>\n",
       "      <th>engineSize</th>\n",
       "    </tr>\n",
       "  </thead>\n",
       "  <tbody>\n",
       "    <tr>\n",
       "      <th>0</th>\n",
       "      <td>0</td>\n",
       "      <td>Audi</td>\n",
       "      <td>A1</td>\n",
       "      <td>2017</td>\n",
       "      <td>12500</td>\n",
       "      <td>Manual</td>\n",
       "      <td>15735</td>\n",
       "      <td>Petrol</td>\n",
       "      <td>150</td>\n",
       "      <td>55.4</td>\n",
       "      <td>1.4</td>\n",
       "    </tr>\n",
       "    <tr>\n",
       "      <th>1</th>\n",
       "      <td>1</td>\n",
       "      <td>Audi</td>\n",
       "      <td>A6</td>\n",
       "      <td>2016</td>\n",
       "      <td>16500</td>\n",
       "      <td>Automatic</td>\n",
       "      <td>36203</td>\n",
       "      <td>Diesel</td>\n",
       "      <td>20</td>\n",
       "      <td>64.2</td>\n",
       "      <td>2.0</td>\n",
       "    </tr>\n",
       "    <tr>\n",
       "      <th>2</th>\n",
       "      <td>2</td>\n",
       "      <td>Audi</td>\n",
       "      <td>A1</td>\n",
       "      <td>2016</td>\n",
       "      <td>11000</td>\n",
       "      <td>Manual</td>\n",
       "      <td>29946</td>\n",
       "      <td>Petrol</td>\n",
       "      <td>30</td>\n",
       "      <td>55.4</td>\n",
       "      <td>1.4</td>\n",
       "    </tr>\n",
       "    <tr>\n",
       "      <th>3</th>\n",
       "      <td>3</td>\n",
       "      <td>Audi</td>\n",
       "      <td>A4</td>\n",
       "      <td>2017</td>\n",
       "      <td>16800</td>\n",
       "      <td>Automatic</td>\n",
       "      <td>25952</td>\n",
       "      <td>Diesel</td>\n",
       "      <td>145</td>\n",
       "      <td>67.3</td>\n",
       "      <td>2.0</td>\n",
       "    </tr>\n",
       "    <tr>\n",
       "      <th>4</th>\n",
       "      <td>4</td>\n",
       "      <td>Audi</td>\n",
       "      <td>A3</td>\n",
       "      <td>2019</td>\n",
       "      <td>17300</td>\n",
       "      <td>Manual</td>\n",
       "      <td>1998</td>\n",
       "      <td>Petrol</td>\n",
       "      <td>145</td>\n",
       "      <td>49.6</td>\n",
       "      <td>1.0</td>\n",
       "    </tr>\n",
       "  </tbody>\n",
       "</table>\n",
       "</div>"
      ],
      "text/plain": [
       "   id brand model  year  price transmission  mileage fuelType  tax   mpg  \\\n",
       "0   0  Audi    A1  2017  12500       Manual    15735   Petrol  150  55.4   \n",
       "1   1  Audi    A6  2016  16500    Automatic    36203   Diesel   20  64.2   \n",
       "2   2  Audi    A1  2016  11000       Manual    29946   Petrol   30  55.4   \n",
       "3   3  Audi    A4  2017  16800    Automatic    25952   Diesel  145  67.3   \n",
       "4   4  Audi    A3  2019  17300       Manual     1998   Petrol  145  49.6   \n",
       "\n",
       "   engineSize  \n",
       "0         1.4  \n",
       "1         2.0  \n",
       "2         1.4  \n",
       "3         2.0  \n",
       "4         1.0  "
      ]
     },
     "execution_count": 3,
     "metadata": {},
     "output_type": "execute_result"
    }
   ],
   "source": [
    "# rename kolom pertama\n",
    "df_car.rename(columns={'Unnamed: 0': 'id'}, inplace=True)\n",
    "df_car.head()"
   ]
  },
  {
   "cell_type": "code",
   "execution_count": 4,
   "metadata": {},
   "outputs": [
    {
     "data": {
      "text/plain": [
       "Yaris     2122\n",
       "Aygo      1961\n",
       "A3        1929\n",
       "Q3        1417\n",
       "A4        1381\n",
       "A1        1347\n",
       "Tucson    1300\n",
       "I10       1092\n",
       "A5         882\n",
       "Q5         877\n",
       "Name: model, dtype: int64"
      ]
     },
     "execution_count": 4,
     "metadata": {},
     "output_type": "execute_result"
    }
   ],
   "source": [
    "df_car['model'].value_counts()[:10]"
   ]
  },
  {
   "cell_type": "markdown",
   "metadata": {},
   "source": [
    "# **No.2**"
   ]
  },
  {
   "cell_type": "code",
   "execution_count": 5,
   "metadata": {},
   "outputs": [
    {
     "data": {
      "text/html": [
       "<div>\n",
       "<style scoped>\n",
       "    .dataframe tbody tr th:only-of-type {\n",
       "        vertical-align: middle;\n",
       "    }\n",
       "\n",
       "    .dataframe tbody tr th {\n",
       "        vertical-align: top;\n",
       "    }\n",
       "\n",
       "    .dataframe thead th {\n",
       "        text-align: right;\n",
       "    }\n",
       "</style>\n",
       "<table border=\"1\" class=\"dataframe\">\n",
       "  <thead>\n",
       "    <tr style=\"text-align: right;\">\n",
       "      <th></th>\n",
       "      <th>id</th>\n",
       "      <th>brand</th>\n",
       "      <th>model</th>\n",
       "      <th>year</th>\n",
       "      <th>price</th>\n",
       "      <th>transmission</th>\n",
       "      <th>mileage</th>\n",
       "      <th>fuelType</th>\n",
       "      <th>tax</th>\n",
       "      <th>mpg</th>\n",
       "      <th>engineSize</th>\n",
       "    </tr>\n",
       "  </thead>\n",
       "  <tbody>\n",
       "    <tr>\n",
       "      <th>count</th>\n",
       "      <td>22266.000000</td>\n",
       "      <td>22266</td>\n",
       "      <td>22266</td>\n",
       "      <td>22266.000000</td>\n",
       "      <td>22266.000000</td>\n",
       "      <td>22266</td>\n",
       "      <td>22266.000000</td>\n",
       "      <td>22266</td>\n",
       "      <td>22266.000000</td>\n",
       "      <td>22266.000000</td>\n",
       "      <td>22266.000000</td>\n",
       "    </tr>\n",
       "    <tr>\n",
       "      <th>unique</th>\n",
       "      <td>NaN</td>\n",
       "      <td>3</td>\n",
       "      <td>60</td>\n",
       "      <td>NaN</td>\n",
       "      <td>NaN</td>\n",
       "      <td>4</td>\n",
       "      <td>NaN</td>\n",
       "      <td>4</td>\n",
       "      <td>NaN</td>\n",
       "      <td>NaN</td>\n",
       "      <td>NaN</td>\n",
       "    </tr>\n",
       "    <tr>\n",
       "      <th>top</th>\n",
       "      <td>NaN</td>\n",
       "      <td>Audi</td>\n",
       "      <td>Yaris</td>\n",
       "      <td>NaN</td>\n",
       "      <td>NaN</td>\n",
       "      <td>Manual</td>\n",
       "      <td>NaN</td>\n",
       "      <td>Petrol</td>\n",
       "      <td>NaN</td>\n",
       "      <td>NaN</td>\n",
       "      <td>NaN</td>\n",
       "    </tr>\n",
       "    <tr>\n",
       "      <th>freq</th>\n",
       "      <td>NaN</td>\n",
       "      <td>10668</td>\n",
       "      <td>2122</td>\n",
       "      <td>NaN</td>\n",
       "      <td>NaN</td>\n",
       "      <td>11806</td>\n",
       "      <td>NaN</td>\n",
       "      <td>12052</td>\n",
       "      <td>NaN</td>\n",
       "      <td>NaN</td>\n",
       "      <td>NaN</td>\n",
       "    </tr>\n",
       "    <tr>\n",
       "      <th>mean</th>\n",
       "      <td>11132.500000</td>\n",
       "      <td>NaN</td>\n",
       "      <td>NaN</td>\n",
       "      <td>2016.995509</td>\n",
       "      <td>17542.591575</td>\n",
       "      <td>NaN</td>\n",
       "      <td>23501.863604</td>\n",
       "      <td>NaN</td>\n",
       "      <td>115.473592</td>\n",
       "      <td>55.151181</td>\n",
       "      <td>1.688489</td>\n",
       "    </tr>\n",
       "    <tr>\n",
       "      <th>std</th>\n",
       "      <td>6427.784883</td>\n",
       "      <td>NaN</td>\n",
       "      <td>NaN</td>\n",
       "      <td>2.133576</td>\n",
       "      <td>10589.835312</td>\n",
       "      <td>NaN</td>\n",
       "      <td>21111.157417</td>\n",
       "      <td>NaN</td>\n",
       "      <td>68.835239</td>\n",
       "      <td>14.834181</td>\n",
       "      <td>0.566379</td>\n",
       "    </tr>\n",
       "    <tr>\n",
       "      <th>min</th>\n",
       "      <td>0.000000</td>\n",
       "      <td>NaN</td>\n",
       "      <td>NaN</td>\n",
       "      <td>1997.000000</td>\n",
       "      <td>850.000000</td>\n",
       "      <td>NaN</td>\n",
       "      <td>1.000000</td>\n",
       "      <td>NaN</td>\n",
       "      <td>0.000000</td>\n",
       "      <td>1.100000</td>\n",
       "      <td>0.000000</td>\n",
       "    </tr>\n",
       "    <tr>\n",
       "      <th>25%</th>\n",
       "      <td>5566.250000</td>\n",
       "      <td>NaN</td>\n",
       "      <td>NaN</td>\n",
       "      <td>2016.000000</td>\n",
       "      <td>9999.000000</td>\n",
       "      <td>NaN</td>\n",
       "      <td>7200.000000</td>\n",
       "      <td>NaN</td>\n",
       "      <td>30.000000</td>\n",
       "      <td>44.800000</td>\n",
       "      <td>1.400000</td>\n",
       "    </tr>\n",
       "    <tr>\n",
       "      <th>50%</th>\n",
       "      <td>11132.500000</td>\n",
       "      <td>NaN</td>\n",
       "      <td>NaN</td>\n",
       "      <td>2017.000000</td>\n",
       "      <td>14999.000000</td>\n",
       "      <td>NaN</td>\n",
       "      <td>18354.000000</td>\n",
       "      <td>NaN</td>\n",
       "      <td>145.000000</td>\n",
       "      <td>55.400000</td>\n",
       "      <td>1.600000</td>\n",
       "    </tr>\n",
       "    <tr>\n",
       "      <th>75%</th>\n",
       "      <td>16698.750000</td>\n",
       "      <td>NaN</td>\n",
       "      <td>NaN</td>\n",
       "      <td>2019.000000</td>\n",
       "      <td>21991.000000</td>\n",
       "      <td>NaN</td>\n",
       "      <td>33100.750000</td>\n",
       "      <td>NaN</td>\n",
       "      <td>145.000000</td>\n",
       "      <td>62.800000</td>\n",
       "      <td>2.000000</td>\n",
       "    </tr>\n",
       "    <tr>\n",
       "      <th>max</th>\n",
       "      <td>22265.000000</td>\n",
       "      <td>NaN</td>\n",
       "      <td>NaN</td>\n",
       "      <td>2020.000000</td>\n",
       "      <td>145000.000000</td>\n",
       "      <td>NaN</td>\n",
       "      <td>323000.000000</td>\n",
       "      <td>NaN</td>\n",
       "      <td>580.000000</td>\n",
       "      <td>256.800000</td>\n",
       "      <td>6.300000</td>\n",
       "    </tr>\n",
       "  </tbody>\n",
       "</table>\n",
       "</div>"
      ],
      "text/plain": [
       "                  id  brand  model          year          price transmission  \\\n",
       "count   22266.000000  22266  22266  22266.000000   22266.000000        22266   \n",
       "unique           NaN      3     60           NaN            NaN            4   \n",
       "top              NaN   Audi  Yaris           NaN            NaN       Manual   \n",
       "freq             NaN  10668   2122           NaN            NaN        11806   \n",
       "mean    11132.500000    NaN    NaN   2016.995509   17542.591575          NaN   \n",
       "std      6427.784883    NaN    NaN      2.133576   10589.835312          NaN   \n",
       "min         0.000000    NaN    NaN   1997.000000     850.000000          NaN   \n",
       "25%      5566.250000    NaN    NaN   2016.000000    9999.000000          NaN   \n",
       "50%     11132.500000    NaN    NaN   2017.000000   14999.000000          NaN   \n",
       "75%     16698.750000    NaN    NaN   2019.000000   21991.000000          NaN   \n",
       "max     22265.000000    NaN    NaN   2020.000000  145000.000000          NaN   \n",
       "\n",
       "              mileage fuelType           tax           mpg    engineSize  \n",
       "count    22266.000000    22266  22266.000000  22266.000000  22266.000000  \n",
       "unique            NaN        4           NaN           NaN           NaN  \n",
       "top               NaN   Petrol           NaN           NaN           NaN  \n",
       "freq              NaN    12052           NaN           NaN           NaN  \n",
       "mean     23501.863604      NaN    115.473592     55.151181      1.688489  \n",
       "std      21111.157417      NaN     68.835239     14.834181      0.566379  \n",
       "min          1.000000      NaN      0.000000      1.100000      0.000000  \n",
       "25%       7200.000000      NaN     30.000000     44.800000      1.400000  \n",
       "50%      18354.000000      NaN    145.000000     55.400000      1.600000  \n",
       "75%      33100.750000      NaN    145.000000     62.800000      2.000000  \n",
       "max     323000.000000      NaN    580.000000    256.800000      6.300000  "
      ]
     },
     "execution_count": 5,
     "metadata": {},
     "output_type": "execute_result"
    }
   ],
   "source": [
    "# Tampilkan deskripsi statistik dari dataset df_car\n",
    "df_car.describe(include='all') "
   ]
  },
  {
   "cell_type": "markdown",
   "metadata": {},
   "source": []
  },
  {
   "cell_type": "markdown",
   "metadata": {},
   "source": [
    "# **No.3**"
   ]
  },
  {
   "cell_type": "markdown",
   "metadata": {},
   "source": [
    "### **Kita mengenal bahwa Variabel dibagi menjadi 2 yaitu variabel Kualitatif dan Kuantitatif**\n",
    ">### **Var. Kualitatif dibagi menjadi 2, yaitu: Nominal dan Ordinal**\n",
    ">### **Var. Kualitatif dibagi menjadi 2, yaitu: Continue dan Discrete**\n",
    "### **Kolom mana saja yang menurut Anda merupakan var. kualitatif? Mana yang Nominal dan Ordinal?**  \n",
    ">### Kualitatif Nominal: brand, model, transmission, fuel type\n",
    ">### Kualitatif Ordinal: -\n",
    "###\n",
    "### **Kolom mana saja yang menurut Anda merupakan var. kuantitatif? Mana yang Continue dan Discrete?**\n",
    ">### Kuantitatif Continue: price, mileage, tax, mpg, engineSize, price_spread\n",
    ">### Kuantitatif Discrete: year"
   ]
  },
  {
   "cell_type": "code",
   "execution_count": null,
   "metadata": {},
   "outputs": [],
   "source": []
  },
  {
   "cell_type": "markdown",
   "metadata": {},
   "source": [
    "# **No.4**"
   ]
  },
  {
   "cell_type": "markdown",
   "metadata": {},
   "source": [
    "## **Apa yg dimaksud dengan Measure of Central Tendency?**\n",
    "### Pengukuran untuk menggambarkan posisi sentral dari distribusi frekuensi untuk sekelompok data.\n",
    "\n",
    "### Istilah lain --> Estimate of Location: perkiraan di mana kebanyakan data berada \n",
    "(Practical Statistic for Data Science - Bruce, 2021 )\n"
   ]
  },
  {
   "cell_type": "code",
   "execution_count": null,
   "metadata": {},
   "outputs": [],
   "source": []
  },
  {
   "cell_type": "code",
   "execution_count": 6,
   "metadata": {},
   "outputs": [
    {
     "data": {
      "text/html": [
       "<div>\n",
       "<style scoped>\n",
       "    .dataframe tbody tr th:only-of-type {\n",
       "        vertical-align: middle;\n",
       "    }\n",
       "\n",
       "    .dataframe tbody tr th {\n",
       "        vertical-align: top;\n",
       "    }\n",
       "\n",
       "    .dataframe thead th {\n",
       "        text-align: right;\n",
       "    }\n",
       "</style>\n",
       "<table border=\"1\" class=\"dataframe\">\n",
       "  <thead>\n",
       "    <tr style=\"text-align: right;\">\n",
       "      <th></th>\n",
       "      <th>model</th>\n",
       "      <th>price</th>\n",
       "    </tr>\n",
       "  </thead>\n",
       "  <tbody>\n",
       "    <tr>\n",
       "      <th>mean</th>\n",
       "      <td>NaN</td>\n",
       "      <td>17542.591575</td>\n",
       "    </tr>\n",
       "    <tr>\n",
       "      <th>50%</th>\n",
       "      <td>NaN</td>\n",
       "      <td>14999.000000</td>\n",
       "    </tr>\n",
       "    <tr>\n",
       "      <th>top</th>\n",
       "      <td>Yaris</td>\n",
       "      <td>NaN</td>\n",
       "    </tr>\n",
       "  </tbody>\n",
       "</table>\n",
       "</div>"
      ],
      "text/plain": [
       "      model         price\n",
       "mean    NaN  17542.591575\n",
       "50%     NaN  14999.000000\n",
       "top   Yaris           NaN"
      ]
     },
     "execution_count": 6,
     "metadata": {},
     "output_type": "execute_result"
    }
   ],
   "source": [
    "# Apa yg dimaksud dengan Measure of Central Tendency?\n",
    "# pengukuran untuk menggambarkan posisi sentral dari distribusi frekuensi untuk sekelompok data. \n",
    "\n",
    "# Tampilkan Measure of Central Tendency dari kolom 'model' dan 'price' \n",
    "df_car.describe(include='all').loc[['mean','50%','top']][['model','price']]\n",
    "\n",
    "# Central Tendency apa yang cocok untuk kolom 'model' dan 'price'?\n"
   ]
  },
  {
   "cell_type": "code",
   "execution_count": 7,
   "metadata": {},
   "outputs": [
    {
     "name": "stdout",
     "output_type": "stream",
     "text": [
      "Modus kolom model \n",
      " 0    Yaris\n",
      "dtype: object \n",
      "\n"
     ]
    }
   ],
   "source": [
    "# Kolom model hanya bisa mengukur modus, karena datanya categorical (kualitatif)\n",
    "print('Modus kolom model \\n', df_car['model'].mode(), '\\n')"
   ]
  },
  {
   "cell_type": "code",
   "execution_count": 8,
   "metadata": {},
   "outputs": [
    {
     "name": "stdout",
     "output_type": "stream",
     "text": [
      "Modus kolom price \n",
      " 0    9995\n",
      "dtype: int64 \n",
      "\n",
      "Mean kolom price \n",
      " 17542.591574598042 \n",
      "\n",
      "Median kolom price \n",
      " 14999.0 \n",
      "\n"
     ]
    }
   ],
   "source": [
    "# Kolom price bisa menggunakan mean atau median, karena datanya numerical (kuantitatif) continuous\n",
    "print('Modus kolom price \\n', df_car['price'].mode(), '\\n')\n",
    "print('Mean kolom price \\n', df_car['price'].mean(), '\\n')\n",
    "print('Median kolom price \\n', df_car['price'].median(), '\\n')\n",
    " "
   ]
  },
  {
   "cell_type": "code",
   "execution_count": 9,
   "metadata": {},
   "outputs": [],
   "source": [
    "# Median lebih robust (tidak sensitif terhadap extreme value) dari pada Mean."
   ]
  },
  {
   "cell_type": "markdown",
   "metadata": {},
   "source": [
    "# **No.5**"
   ]
  },
  {
   "cell_type": "markdown",
   "metadata": {},
   "source": [
    "### **Apa yang dimaksud dengan Measure of Spread?** \n",
    "### pengukuran untuk menggambarkan seberapa tersebar data kita. \n",
    "### Istilah lain --> Estimates of Variability/Dispersion\n",
    "\n",
    "### **Standar Deviasi**\n",
    "### Standar deviasi adalah ukuran variabilitas yang paling sering digunakan. \n",
    "### Secara sederhana, standar deviasi adalah rata-rata penyimpangan absolut dari nilai rata-rata. \n",
    "### Penyimpangan itu artinya selisih setiap data dengan nilai rata-ratanya.\n",
    "\n",
    "### **Persentil**\n",
    "### Persentil adalah nilai yang membagi data yang sudah diurutkan dari yang terkecil ke yang terbesar menjadi 100 bagian yang sama.\n",
    "\n",
    "### **Interquartile Range (IQR)**\n",
    "### Interquartile Range atau Rentang inter kuartil adalah jarak antara Q1 dan Q3. Sehingga rumusnya IQR = Q3 - Q1\n",
    "### IQR dapat digunakan sebagai pengganti standar deviasi saat data tidak terdistribusi normal, karena standar deviasi sangat sensitif terhadap outlier\n",
    "### Secara umum, standar deviasi sama dengan 1,348 kali dari IQR\n"
   ]
  },
  {
   "cell_type": "code",
   "execution_count": 10,
   "metadata": {},
   "outputs": [
    {
     "data": {
      "text/plain": [
       "144150"
      ]
     },
     "execution_count": 10,
     "metadata": {},
     "output_type": "execute_result"
    }
   ],
   "source": [
    "# Tampilkan Measure of Spread dari kolom 'price'\n",
    "\n",
    "# Range\n",
    "df_car['price'].max() - df_car['price'].min()"
   ]
  },
  {
   "cell_type": "code",
   "execution_count": 11,
   "metadata": {},
   "outputs": [
    {
     "data": {
      "text/plain": [
       "112144611.93109098"
      ]
     },
     "execution_count": 11,
     "metadata": {},
     "output_type": "execute_result"
    }
   ],
   "source": [
    "# Variance\n",
    "df_car['price'].var()"
   ]
  },
  {
   "cell_type": "code",
   "execution_count": 12,
   "metadata": {},
   "outputs": [
    {
     "data": {
      "text/plain": [
       "112144611.93109271"
      ]
     },
     "execution_count": 12,
     "metadata": {},
     "output_type": "execute_result"
    }
   ],
   "source": [
    "# Variance\n",
    "df_car['price_spread'] = (df_car['price'] - df_car['price'].mean())**2\n",
    "df_car \n",
    "\n",
    "df_car['price_spread'].sum()/(len(df_car['price_spread'])-1)"
   ]
  },
  {
   "cell_type": "code",
   "execution_count": 13,
   "metadata": {},
   "outputs": [
    {
     "data": {
      "text/plain": [
       "10589.835311802115"
      ]
     },
     "execution_count": 13,
     "metadata": {},
     "output_type": "execute_result"
    }
   ],
   "source": [
    "# Standard deviation\n",
    "df_car['price'].std()"
   ]
  },
  {
   "cell_type": "code",
   "execution_count": 14,
   "metadata": {},
   "outputs": [
    {
     "data": {
      "text/plain": [
       "10589.835311802195"
      ]
     },
     "execution_count": 14,
     "metadata": {},
     "output_type": "execute_result"
    }
   ],
   "source": [
    "# Standard deviation\n",
    "np.sqrt(df_car['price_spread'].sum()/(len(df_car['price_spread'])-1))"
   ]
  },
  {
   "cell_type": "code",
   "execution_count": 15,
   "metadata": {},
   "outputs": [
    {
     "data": {
      "text/plain": [
       "11992.0"
      ]
     },
     "execution_count": 15,
     "metadata": {},
     "output_type": "execute_result"
    }
   ],
   "source": [
    "# IQR\n",
    "q1 = df_car['price'].quantile(0.25)\n",
    "q3 = df_car['price'].quantile(0.75)\n",
    "IQR = q3 - q1\n",
    "IQR\n"
   ]
  },
  {
   "cell_type": "markdown",
   "metadata": {},
   "source": [
    "# **No.6**"
   ]
  },
  {
   "cell_type": "markdown",
   "metadata": {},
   "source": [
    "##  **Outliers/Pencilan**\n",
    "### Outliers = Extreme Case = Nilai yang sangat jauh dari nilai lainnya pada suatu dataset \n",
    "(Bruce, 2021)"
   ]
  },
  {
   "cell_type": "code",
   "execution_count": 16,
   "metadata": {},
   "outputs": [
    {
     "name": "stdout",
     "output_type": "stream",
     "text": [
      "Batas atas  : 39979.0\n",
      "Batas bawah : -7989.0\n",
      "Jumlah outliers: 808\n"
     ]
    }
   ],
   "source": [
    "# Apakah ada Outlier pada kolom 'price'? Kalau ada, berapa banyak data yang merupakan outliers?\n",
    "lower = q1 - 1.5*IQR\n",
    "upper = q3 + 1.5*IQR\n",
    "\n",
    "# Outlier adalah data yg di luar Batas Atas dan Batas Bawah \n",
    "outlier = df_car[(df_car['price']<lower) | (df_car['price']>upper)]\n",
    "outlier\n",
    "# df_car[(df_car['price']<lower)]\n",
    "# df_car[(df_car['price']>upper)]\n",
    "\n",
    "print('Batas atas  :', upper)\n",
    "print('Batas bawah :', lower)\n",
    "\n",
    "print('Jumlah outliers:', len(outlier))"
   ]
  },
  {
   "cell_type": "code",
   "execution_count": 17,
   "metadata": {},
   "outputs": [
    {
     "name": "stderr",
     "output_type": "stream",
     "text": [
      "/opt/anaconda3/lib/python3.9/site-packages/seaborn/_decorators.py:36: FutureWarning: Pass the following variable as a keyword arg: x. From version 0.12, the only valid positional argument will be `data`, and passing other arguments without an explicit keyword will result in an error or misinterpretation.\n",
      "  warnings.warn(\n"
     ]
    },
    {
     "data": {
      "image/png": "[encoded data removed]",
      "text/plain": [
       "<Figure size 432x288 with 1 Axes>"
      ]
     },
     "metadata": {
      "needs_background": "light"
     },
     "output_type": "display_data"
    }
   ],
   "source": [
    "sns.boxplot(df_car['price']);"
   ]
  },
  {
   "cell_type": "code",
   "execution_count": null,
   "metadata": {},
   "outputs": [],
   "source": []
  },
  {
   "cell_type": "markdown",
   "metadata": {},
   "source": [
    "# **No.7**"
   ]
  },
  {
   "cell_type": "code",
   "execution_count": 18,
   "metadata": {},
   "outputs": [
    {
     "data": {
      "text/html": [
       "<div>\n",
       "<style scoped>\n",
       "    .dataframe tbody tr th:only-of-type {\n",
       "        vertical-align: middle;\n",
       "    }\n",
       "\n",
       "    .dataframe tbody tr th {\n",
       "        vertical-align: top;\n",
       "    }\n",
       "\n",
       "    .dataframe thead th {\n",
       "        text-align: right;\n",
       "    }\n",
       "</style>\n",
       "<table border=\"1\" class=\"dataframe\">\n",
       "  <thead>\n",
       "    <tr style=\"text-align: right;\">\n",
       "      <th></th>\n",
       "      <th>id</th>\n",
       "      <th>year</th>\n",
       "      <th>price</th>\n",
       "      <th>mileage</th>\n",
       "      <th>tax</th>\n",
       "      <th>mpg</th>\n",
       "      <th>engineSize</th>\n",
       "      <th>price_spread</th>\n",
       "    </tr>\n",
       "  </thead>\n",
       "  <tbody>\n",
       "    <tr>\n",
       "      <th>mean</th>\n",
       "      <td>11132.5</td>\n",
       "      <td>2016.995509</td>\n",
       "      <td>17542.591575</td>\n",
       "      <td>23501.863604</td>\n",
       "      <td>115.473592</td>\n",
       "      <td>55.151181</td>\n",
       "      <td>1.688489</td>\n",
       "      <td>1.121396e+08</td>\n",
       "    </tr>\n",
       "    <tr>\n",
       "      <th>50%</th>\n",
       "      <td>11132.5</td>\n",
       "      <td>2017.000000</td>\n",
       "      <td>14999.000000</td>\n",
       "      <td>18354.000000</td>\n",
       "      <td>145.000000</td>\n",
       "      <td>55.400000</td>\n",
       "      <td>1.600000</td>\n",
       "      <td>4.163357e+07</td>\n",
       "    </tr>\n",
       "  </tbody>\n",
       "</table>\n",
       "</div>"
      ],
      "text/plain": [
       "           id         year         price       mileage         tax        mpg  \\\n",
       "mean  11132.5  2016.995509  17542.591575  23501.863604  115.473592  55.151181   \n",
       "50%   11132.5  2017.000000  14999.000000  18354.000000  145.000000  55.400000   \n",
       "\n",
       "      engineSize  price_spread  \n",
       "mean    1.688489  1.121396e+08  \n",
       "50%     1.600000  4.163357e+07  "
      ]
     },
     "execution_count": 18,
     "metadata": {},
     "output_type": "execute_result"
    }
   ],
   "source": [
    "# Variabel/kolom apa saja yang memiliki distribusi skewed ke kanan\n",
    "df_car.describe().loc[['mean','50%']]\n",
    "\n",
    "# skewed ke kanan (mean > median): \n",
    "# price, mileage, engine, engineSize?, price_spread"
   ]
  },
  {
   "cell_type": "code",
   "execution_count": null,
   "metadata": {},
   "outputs": [],
   "source": []
  },
  {
   "cell_type": "markdown",
   "metadata": {},
   "source": [
    "# **No.8**"
   ]
  },
  {
   "cell_type": "code",
   "execution_count": 19,
   "metadata": {},
   "outputs": [],
   "source": [
    "# Ho : sample terdistribusi normal\n",
    "# Ha : sample TIDAK terdistribusi normal\n",
    "\n",
    "# p-value > 0.05 : accept Ho --> sample terdistribusi normal\n",
    "# p-value < 0.05 : reject Ho --> sample TIDAK terdistribusi normal (Ha)"
   ]
  },
  {
   "cell_type": "code",
   "execution_count": 20,
   "metadata": {},
   "outputs": [
    {
     "name": "stdout",
     "output_type": "stream",
     "text": [
      "p-value mileage : 0.0000000000\n",
      "Kolom mileage TIDAK terdistribusi normal\n"
     ]
    }
   ],
   "source": [
    "# Nilai Mean dan Median dari kolom 'mileage' berbeda jauh. Coba buktikan apakah distribusi kolom tersebut normal atau tidak!\n",
    "def normal(kolom):\n",
    "    stat, pvalue = stats.normaltest(kolom)\n",
    "    print(f'p-value {kolom.name} : {pvalue:.10f}' )\n",
    "    \n",
    "\n",
    "    if pvalue < 0.05:\n",
    "        print(f'Kolom {kolom.name} TIDAK terdistribusi normal')\n",
    "    else:\n",
    "        print(f'Kolom {kolom.name} terdistribusi normal')\n",
    "    \n",
    "normal(df_car['mileage'])"
   ]
  },
  {
   "cell_type": "code",
   "execution_count": 21,
   "metadata": {},
   "outputs": [
    {
     "data": {
      "text/html": [
       "<div>\n",
       "<style scoped>\n",
       "    .dataframe tbody tr th:only-of-type {\n",
       "        vertical-align: middle;\n",
       "    }\n",
       "\n",
       "    .dataframe tbody tr th {\n",
       "        vertical-align: top;\n",
       "    }\n",
       "\n",
       "    .dataframe thead th {\n",
       "        text-align: right;\n",
       "    }\n",
       "</style>\n",
       "<table border=\"1\" class=\"dataframe\">\n",
       "  <thead>\n",
       "    <tr style=\"text-align: right;\">\n",
       "      <th></th>\n",
       "      <th>mileage</th>\n",
       "    </tr>\n",
       "  </thead>\n",
       "  <tbody>\n",
       "    <tr>\n",
       "      <th>mean</th>\n",
       "      <td>23501.863604</td>\n",
       "    </tr>\n",
       "    <tr>\n",
       "      <th>50%</th>\n",
       "      <td>18354.000000</td>\n",
       "    </tr>\n",
       "  </tbody>\n",
       "</table>\n",
       "</div>"
      ],
      "text/plain": [
       "           mileage\n",
       "mean  23501.863604\n",
       "50%   18354.000000"
      ]
     },
     "execution_count": 21,
     "metadata": {},
     "output_type": "execute_result"
    }
   ],
   "source": [
    "# perbedaan Mean dan Median dari 'mileage'\n",
    "df_car.describe().loc[['mean','50%']][['mileage']]"
   ]
  },
  {
   "cell_type": "code",
   "execution_count": 22,
   "metadata": {},
   "outputs": [
    {
     "name": "stderr",
     "output_type": "stream",
     "text": [
      "/opt/anaconda3/lib/python3.9/site-packages/seaborn/distributions.py:2619: FutureWarning: `distplot` is a deprecated function and will be removed in a future version. Please adapt your code to use either `displot` (a figure-level function with similar flexibility) or `histplot` (an axes-level function for histograms).\n",
      "  warnings.warn(msg, FutureWarning)\n"
     ]
    },
    {
     "data": {
      "image/png": "[encoded data removed]",
      "text/plain": [
       "<Figure size 432x288 with 1 Axes>"
      ]
     },
     "metadata": {
      "needs_background": "light"
     },
     "output_type": "display_data"
    }
   ],
   "source": [
    "# Histogram\n",
    "sns.distplot(df_car['mileage'], bins=20, kde=False);"
   ]
  },
  {
   "cell_type": "code",
   "execution_count": 23,
   "metadata": {},
   "outputs": [
    {
     "data": {
      "text/plain": [
       "0.4491152429713465"
      ]
     },
     "execution_count": 23,
     "metadata": {},
     "output_type": "execute_result"
    }
   ],
   "source": [
    "frekuensi = 10000 # (perkiraan) # berapakali mobil dengan mileage antara 1-16150 muncul\n",
    "jml_mobil = df_car['mileage'].count() # jumlah keseluruhan mobil\n",
    "\n",
    "prob2 = frekuensi/jml_mobil\n",
    "prob2\n",
    "\n"
   ]
  },
  {
   "cell_type": "code",
   "execution_count": 24,
   "metadata": {},
   "outputs": [
    {
     "data": {
      "image/png": "[encoded data removed]",
      "text/plain": [
       "<Figure size 432x288 with 1 Axes>"
      ]
     },
     "metadata": {
      "needs_background": "light"
     },
     "output_type": "display_data"
    }
   ],
   "source": [
    "# Density plot\n",
    "sns.distplot(df_car['mileage'], bins=20, kde=True);"
   ]
  },
  {
   "cell_type": "code",
   "execution_count": 25,
   "metadata": {},
   "outputs": [
    {
     "data": {
      "text/plain": [
       "0.46835"
      ]
     },
     "execution_count": 25,
     "metadata": {},
     "output_type": "execute_result"
    }
   ],
   "source": [
    "# probability untuk mendapatkan nilai mileage antara 1-16150\n",
    "alas = df_car['mileage'].max()/20 # rentang nilai mileage antara 1-16150\n",
    "tinggi = 0.000029 # probability density\n",
    "\n",
    "prob = alas * tinggi\n",
    "prob"
   ]
  },
  {
   "cell_type": "code",
   "execution_count": 26,
   "metadata": {},
   "outputs": [
    {
     "data": {
      "text/plain": [
       "array([1.0000000e+00, 1.6150950e+04, 3.2300900e+04, 4.8450850e+04,\n",
       "       6.4600800e+04, 8.0750750e+04, 9.6900700e+04, 1.1305065e+05,\n",
       "       1.2920060e+05, 1.4535055e+05, 1.6150050e+05, 1.7765045e+05,\n",
       "       1.9380040e+05, 2.0995035e+05, 2.2610030e+05, 2.4225025e+05,\n",
       "       2.5840020e+05, 2.7455015e+05, 2.9070010e+05, 3.0685005e+05,\n",
       "       3.2300000e+05])"
      ]
     },
     "execution_count": 26,
     "metadata": {},
     "output_type": "execute_result"
    }
   ],
   "source": [
    "np.linspace(df_car['mileage'].min(), df_car['mileage'].max(), 21)"
   ]
  },
  {
   "cell_type": "markdown",
   "metadata": {},
   "source": [
    "# **No.9**"
   ]
  },
  {
   "cell_type": "markdown",
   "metadata": {},
   "source": [
    "## Grafik apa yang tepat untuk menampilkan visualisasi:\n",
    "\n",
    ">### **Brand vs Price?** barplot\n",
    ">### **Price vs Mileage?** scatterplot\n",
    ">### **Frequency distribution of Mileage?** histogram"
   ]
  },
  {
   "cell_type": "code",
   "execution_count": 29,
   "metadata": {},
   "outputs": [
    {
     "data": {
      "text/plain": [
       "<AxesSubplot:xlabel='brand', ylabel='price'>"
      ]
     },
     "execution_count": 29,
     "metadata": {},
     "output_type": "execute_result"
    },
    {
     "data": {
      "image/png": "[encoded data removed]",
      "text/plain": [
       "<Figure size 432x288 with 1 Axes>"
      ]
     },
     "metadata": {
      "needs_background": "light"
     },
     "output_type": "display_data"
    }
   ],
   "source": [
    "sns.barplot(x='brand', y='price' ,data = df_car)"
   ]
  },
  {
   "cell_type": "code",
   "execution_count": 31,
   "metadata": {},
   "outputs": [
    {
     "data": {
      "text/plain": [
       "<AxesSubplot:xlabel='price', ylabel='mileage'>"
      ]
     },
     "execution_count": 31,
     "metadata": {},
     "output_type": "execute_result"
    },
    {
     "data": {
      "image/png": "[encoded data removed]",
      "text/plain": [
       "<Figure size 432x288 with 1 Axes>"
      ]
     },
     "metadata": {
      "needs_background": "light"
     },
     "output_type": "display_data"
    }
   ],
   "source": [
    "sns.scatterplot(x='price', y='mileage' ,data = df_car)"
   ]
  },
  {
   "cell_type": "code",
   "execution_count": 32,
   "metadata": {},
   "outputs": [
    {
     "data": {
      "text/plain": [
       "<seaborn.axisgrid.FacetGrid at 0x7fdca8f74b80>"
      ]
     },
     "execution_count": 32,
     "metadata": {},
     "output_type": "execute_result"
    },
    {
     "data": {
      "image/png": "[encoded data removed]",
      "text/plain": [
       "<Figure size 360x360 with 1 Axes>"
      ]
     },
     "metadata": {
      "needs_background": "light"
     },
     "output_type": "display_data"
    }
   ],
   "source": [
    "sns.displot(data=df_car, x='mileage', bins=20)"
   ]
  },
  {
   "cell_type": "code",
   "execution_count": null,
   "metadata": {},
   "outputs": [],
   "source": []
  }
 ],
 "metadata": {
  "interpreter": {
   "hash": "40d3a090f54c6569ab1632332b64b2c03c39dcf918b08424e98f38b5ae0af88f"
  },
  "kernelspec": {
   "display_name": "Python 3.9.7 ('base')",
   "language": "python",
   "name": "python3"
  },
  "language_info": {
   "codemirror_mode": {
    "name": "ipython",
    "version": 3
   },
   "file_extension": ".py",
   "mimetype": "text/x-python",
   "name": "python",
   "nbconvert_exporter": "python",
   "pygments_lexer": "ipython3",
   "version": "3.9.7"
  },
  "orig_nbformat": 4
 },
 "nbformat": 4,
 "nbformat_minor": 2
}
