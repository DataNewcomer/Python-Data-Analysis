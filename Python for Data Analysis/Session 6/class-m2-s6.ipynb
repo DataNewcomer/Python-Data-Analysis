{
 "cells": [
  {
   "cell_type": "code",
   "execution_count": 1,
   "metadata": {
    "ExecuteTime": {
     "end_time": "2022-02-16T04:58:52.129263Z",
     "start_time": "2022-02-16T04:58:51.896886Z"
    }
   },
   "outputs": [],
   "source": [
    "import numpy as np"
   ]
  },
  {
   "cell_type": "code",
   "execution_count": 2,
   "metadata": {
    "ExecuteTime": {
     "end_time": "2022-02-16T04:58:52.160180Z",
     "start_time": "2022-02-16T04:58:52.133253Z"
    }
   },
   "outputs": [
    {
     "data": {
      "text/plain": [
       "array([[ 1,  2,  3,  4],\n",
       "       [ 5,  6,  7,  8],\n",
       "       [ 9, 10, 11, 12],\n",
       "       [13, 14, 15, 16]])"
      ]
     },
     "execution_count": 2,
     "metadata": {},
     "output_type": "execute_result"
    }
   ],
   "source": [
    "mat=np.arange(1,17).reshape(4,-1)\n",
    "mat"
   ]
  },
  {
   "cell_type": "code",
   "execution_count": 3,
   "metadata": {
    "ExecuteTime": {
     "end_time": "2022-02-16T04:58:52.176137Z",
     "start_time": "2022-02-16T04:58:52.164171Z"
    }
   },
   "outputs": [
    {
     "data": {
      "text/plain": [
       "array([[ 6,  7,  8],\n",
       "       [10, 11, 12]])"
      ]
     },
     "execution_count": 3,
     "metadata": {},
     "output_type": "execute_result"
    }
   ],
   "source": [
    "mat[1:3,1:]"
   ]
  },
  {
   "cell_type": "code",
   "execution_count": 4,
   "metadata": {
    "ExecuteTime": {
     "end_time": "2022-02-16T04:58:52.192095Z",
     "start_time": "2022-02-16T04:58:52.179131Z"
    }
   },
   "outputs": [
    {
     "data": {
      "text/plain": [
       "4"
      ]
     },
     "execution_count": 4,
     "metadata": {},
     "output_type": "execute_result"
    }
   ],
   "source": [
    "mat[0,3]"
   ]
  },
  {
   "cell_type": "code",
   "execution_count": 5,
   "metadata": {
    "ExecuteTime": {
     "end_time": "2022-02-16T04:58:52.208054Z",
     "start_time": "2022-02-16T04:58:52.195087Z"
    }
   },
   "outputs": [
    {
     "data": {
      "text/plain": [
       "11"
      ]
     },
     "execution_count": 5,
     "metadata": {},
     "output_type": "execute_result"
    }
   ],
   "source": [
    "mat[2,2]"
   ]
  },
  {
   "cell_type": "code",
   "execution_count": 6,
   "metadata": {
    "ExecuteTime": {
     "end_time": "2022-02-16T04:58:52.224010Z",
     "start_time": "2022-02-16T04:58:52.211050Z"
    }
   },
   "outputs": [
    {
     "data": {
      "text/plain": [
       "array([ 9, 10, 11, 12])"
      ]
     },
     "execution_count": 6,
     "metadata": {},
     "output_type": "execute_result"
    }
   ],
   "source": [
    "mat[2]"
   ]
  },
  {
   "cell_type": "code",
   "execution_count": 7,
   "metadata": {
    "ExecuteTime": {
     "end_time": "2022-02-16T04:58:52.239967Z",
     "start_time": "2022-02-16T04:58:52.227999Z"
    }
   },
   "outputs": [
    {
     "data": {
      "text/plain": [
       "array([ 2,  6, 10, 14])"
      ]
     },
     "execution_count": 7,
     "metadata": {},
     "output_type": "execute_result"
    }
   ],
   "source": [
    "mat[:,1]"
   ]
  },
  {
   "cell_type": "code",
   "execution_count": 8,
   "metadata": {
    "ExecuteTime": {
     "end_time": "2022-02-16T04:58:52.255924Z",
     "start_time": "2022-02-16T04:58:52.242960Z"
    }
   },
   "outputs": [
    {
     "data": {
      "text/plain": [
       "array([[1, 2],\n",
       "       [5, 6]])"
      ]
     },
     "execution_count": 8,
     "metadata": {},
     "output_type": "execute_result"
    }
   ],
   "source": [
    "mat[:2,:2]"
   ]
  },
  {
   "cell_type": "code",
   "execution_count": 9,
   "metadata": {
    "ExecuteTime": {
     "end_time": "2022-02-16T04:58:52.271882Z",
     "start_time": "2022-02-16T04:58:52.258917Z"
    }
   },
   "outputs": [
    {
     "data": {
      "text/plain": [
       "array([[ 1,  2,  3,  4],\n",
       "       [ 5,  6,  7,  8],\n",
       "       [ 9, 10, 11, 12],\n",
       "       [13, 14, 15, 16]])"
      ]
     },
     "execution_count": 9,
     "metadata": {},
     "output_type": "execute_result"
    }
   ],
   "source": [
    "mat"
   ]
  },
  {
   "cell_type": "code",
   "execution_count": 10,
   "metadata": {
    "ExecuteTime": {
     "end_time": "2022-02-16T04:58:52.287839Z",
     "start_time": "2022-02-16T04:58:52.274878Z"
    }
   },
   "outputs": [
    {
     "data": {
      "text/plain": [
       "array([[ 0,  2,  0,  4],\n",
       "       [ 0,  6,  0,  8],\n",
       "       [ 0, 10,  0, 12],\n",
       "       [ 0, 14,  0, 16]])"
      ]
     },
     "execution_count": 10,
     "metadata": {},
     "output_type": "execute_result"
    }
   ],
   "source": [
    "np.where(mat%2==0,mat,0) #if else \n",
    "# kalau value dari mat bisa dibagi 2, maka keluarkan angkanya, kalau tidak, ganti isinya dengan 0"
   ]
  },
  {
   "cell_type": "markdown",
   "metadata": {},
   "source": [
    "# Pandas for Data Analysis"
   ]
  },
  {
   "cell_type": "code",
   "execution_count": 11,
   "metadata": {
    "ExecuteTime": {
     "end_time": "2022-02-16T04:58:52.842357Z",
     "start_time": "2022-02-16T04:58:52.290832Z"
    }
   },
   "outputs": [],
   "source": [
    "import pandas as pd"
   ]
  },
  {
   "cell_type": "markdown",
   "metadata": {},
   "source": [
    "## Creating Series\n",
    "data koleksi 1 dimensi (mirip array 1d pada numpy) pada pandas. Bisa diberi lebal/nama pada index dan menampung jenis data apapun (bukan hanya angka seperti pada array)"
   ]
  },
  {
   "cell_type": "code",
   "execution_count": 12,
   "metadata": {
    "ExecuteTime": {
     "end_time": "2022-02-16T04:58:52.858315Z",
     "start_time": "2022-02-16T04:58:52.846347Z"
    }
   },
   "outputs": [],
   "source": [
    "mylist=[10,20,30]\n",
    "labels=['a','b','c']"
   ]
  },
  {
   "cell_type": "code",
   "execution_count": 13,
   "metadata": {
    "ExecuteTime": {
     "end_time": "2022-02-16T04:58:52.874272Z",
     "start_time": "2022-02-16T04:58:52.860310Z"
    }
   },
   "outputs": [
    {
     "data": {
      "text/plain": [
       "0    10\n",
       "1    20\n",
       "2    30\n",
       "dtype: int64"
      ]
     },
     "execution_count": 13,
     "metadata": {},
     "output_type": "execute_result"
    }
   ],
   "source": [
    "# Series from list\n",
    "pd.Series(mylist) #secara default, index pada series berupa angka dimulai dari 0\n",
    "# perhatikan cara penulisan function Series"
   ]
  },
  {
   "cell_type": "code",
   "execution_count": 14,
   "metadata": {
    "ExecuteTime": {
     "end_time": "2022-02-16T04:58:52.890232Z",
     "start_time": "2022-02-16T04:58:52.878262Z"
    }
   },
   "outputs": [
    {
     "data": {
      "text/plain": [
       "a    10\n",
       "b    20\n",
       "c    30\n",
       "dtype: int64"
      ]
     },
     "execution_count": 14,
     "metadata": {},
     "output_type": "execute_result"
    }
   ],
   "source": [
    "pd.Series(mylist,labels) # memberi nama/label untuk index"
   ]
  },
  {
   "cell_type": "code",
   "execution_count": 15,
   "metadata": {
    "ExecuteTime": {
     "end_time": "2022-02-16T04:58:52.906189Z",
     "start_time": "2022-02-16T04:58:52.894219Z"
    }
   },
   "outputs": [
    {
     "data": {
      "text/plain": [
       "a    10\n",
       "b    20\n",
       "c    30\n",
       "dtype: int64"
      ]
     },
     "execution_count": 15,
     "metadata": {},
     "output_type": "execute_result"
    }
   ],
   "source": [
    "pd.Series(data=mylist, index=labels)"
   ]
  },
  {
   "cell_type": "code",
   "execution_count": 16,
   "metadata": {
    "ExecuteTime": {
     "end_time": "2022-02-16T04:58:52.922145Z",
     "start_time": "2022-02-16T04:58:52.909179Z"
    }
   },
   "outputs": [
    {
     "data": {
      "text/plain": [
       "array([10, 20, 30])"
      ]
     },
     "execution_count": 16,
     "metadata": {},
     "output_type": "execute_result"
    }
   ],
   "source": [
    "# Series from array\n",
    "arr= np.array([10,20,30])\n",
    "arr"
   ]
  },
  {
   "cell_type": "code",
   "execution_count": 17,
   "metadata": {
    "ExecuteTime": {
     "end_time": "2022-02-16T04:58:52.938101Z",
     "start_time": "2022-02-16T04:58:52.924141Z"
    }
   },
   "outputs": [
    {
     "data": {
      "text/plain": [
       "0    10\n",
       "1    20\n",
       "2    30\n",
       "dtype: int32"
      ]
     },
     "execution_count": 17,
     "metadata": {},
     "output_type": "execute_result"
    }
   ],
   "source": [
    "pd.Series(arr)"
   ]
  },
  {
   "cell_type": "code",
   "execution_count": 18,
   "metadata": {
    "ExecuteTime": {
     "end_time": "2022-02-16T04:58:52.968023Z",
     "start_time": "2022-02-16T04:58:52.943090Z"
    }
   },
   "outputs": [
    {
     "data": {
      "text/plain": [
       "a    10\n",
       "b    20\n",
       "c    30\n",
       "dtype: int32"
      ]
     },
     "execution_count": 18,
     "metadata": {},
     "output_type": "execute_result"
    }
   ],
   "source": [
    "pd.Series(arr,labels)"
   ]
  },
  {
   "cell_type": "code",
   "execution_count": 19,
   "metadata": {
    "ExecuteTime": {
     "end_time": "2022-02-16T04:58:52.983979Z",
     "start_time": "2022-02-16T04:58:52.971014Z"
    }
   },
   "outputs": [
    {
     "data": {
      "text/plain": [
       "{'a': 10, 'b': 20, 'c': 30}"
      ]
     },
     "execution_count": 19,
     "metadata": {},
     "output_type": "execute_result"
    }
   ],
   "source": [
    "# Series from Dictionary\n",
    "myDict={'a':10,'b':20,'c':30}\n",
    "myDict"
   ]
  },
  {
   "cell_type": "code",
   "execution_count": 20,
   "metadata": {
    "ExecuteTime": {
     "end_time": "2022-02-16T04:58:52.999937Z",
     "start_time": "2022-02-16T04:58:52.986974Z"
    }
   },
   "outputs": [
    {
     "data": {
      "text/plain": [
       "a    10\n",
       "b    20\n",
       "c    30\n",
       "dtype: int64"
      ]
     },
     "execution_count": 20,
     "metadata": {},
     "output_type": "execute_result"
    }
   ],
   "source": [
    "pd.Series(myDict) #key dictionary akan menjadi label Series, value pada dictionary akan menjadi value pada Series"
   ]
  },
  {
   "cell_type": "markdown",
   "metadata": {},
   "source": [
    "## Creating Data Frame\n",
    "DataFrame adalah data 2 dimensi yang merupakan gabungan dari beberapa Series dengan index yang sama.  \n",
    "DataFrame memiliki kolom dan baris, di mana, 1 kolom berisi satu jenis variabel dengan 1 jenis data tipe, sementara tiap kolom berisi 1 observasi.  "
   ]
  },
  {
   "cell_type": "code",
   "execution_count": 21,
   "metadata": {
    "ExecuteTime": {
     "end_time": "2022-02-16T04:58:53.015897Z",
     "start_time": "2022-02-16T04:58:53.001931Z"
    }
   },
   "outputs": [],
   "source": [
    "# from lists\n",
    "kota=['Jakarta','Surabaya','Bandung']\n",
    "toko=[4,2,2]\n",
    "penjualan=[10000,6000,8000]"
   ]
  },
  {
   "cell_type": "code",
   "execution_count": 22,
   "metadata": {
    "ExecuteTime": {
     "end_time": "2022-02-16T04:58:53.047818Z",
     "start_time": "2022-02-16T04:58:53.022876Z"
    }
   },
   "outputs": [
    {
     "data": {
      "text/html": [
       "<div>\n",
       "<style scoped>\n",
       "    .dataframe tbody tr th:only-of-type {\n",
       "        vertical-align: middle;\n",
       "    }\n",
       "\n",
       "    .dataframe tbody tr th {\n",
       "        vertical-align: top;\n",
       "    }\n",
       "\n",
       "    .dataframe thead th {\n",
       "        text-align: right;\n",
       "    }\n",
       "</style>\n",
       "<table border=\"1\" class=\"dataframe\">\n",
       "  <thead>\n",
       "    <tr style=\"text-align: right;\">\n",
       "      <th></th>\n",
       "      <th>0</th>\n",
       "      <th>1</th>\n",
       "      <th>2</th>\n",
       "    </tr>\n",
       "  </thead>\n",
       "  <tbody>\n",
       "    <tr>\n",
       "      <th>0</th>\n",
       "      <td>Jakarta</td>\n",
       "      <td>Surabaya</td>\n",
       "      <td>Bandung</td>\n",
       "    </tr>\n",
       "    <tr>\n",
       "      <th>1</th>\n",
       "      <td>4</td>\n",
       "      <td>2</td>\n",
       "      <td>2</td>\n",
       "    </tr>\n",
       "    <tr>\n",
       "      <th>2</th>\n",
       "      <td>10000</td>\n",
       "      <td>6000</td>\n",
       "      <td>8000</td>\n",
       "    </tr>\n",
       "  </tbody>\n",
       "</table>\n",
       "</div>"
      ],
      "text/plain": [
       "         0         1        2\n",
       "0  Jakarta  Surabaya  Bandung\n",
       "1        4         2        2\n",
       "2    10000      6000     8000"
      ]
     },
     "execution_count": 22,
     "metadata": {},
     "output_type": "execute_result"
    }
   ],
   "source": [
    "pd.DataFrame(data=[kota,toko,penjualan]) # perhatikan cara penulisan DataFrame\n",
    "#secara default, setiap list jadi 1 baris, padahal, dalam kasus ini kita ingin 1 list menjadi 1 kolom"
   ]
  },
  {
   "cell_type": "code",
   "execution_count": 23,
   "metadata": {
    "ExecuteTime": {
     "end_time": "2022-02-16T04:58:53.063785Z",
     "start_time": "2022-02-16T04:58:53.052796Z"
    }
   },
   "outputs": [
    {
     "data": {
      "text/plain": [
       "0    Jakarta\n",
       "1          4\n",
       "2      10000\n",
       "Name: 0, dtype: object"
      ]
     },
     "execution_count": 23,
     "metadata": {},
     "output_type": "execute_result"
    }
   ],
   "source": [
    "pd.DataFrame(data=[kota,toko,penjualan])[0] #perhatikan data type\n",
    "# tiap kolom memiliki data tipe seragam, jadi, jika kita memiliki data tipe integer dan string pada 1 kolom\n",
    "# maka data tipe di kolom tersebut akan menjadi object/string"
   ]
  },
  {
   "cell_type": "code",
   "execution_count": 24,
   "metadata": {
    "ExecuteTime": {
     "end_time": "2022-02-16T04:58:53.079724Z",
     "start_time": "2022-02-16T04:58:53.067756Z"
    }
   },
   "outputs": [
    {
     "data": {
      "text/html": [
       "<div>\n",
       "<style scoped>\n",
       "    .dataframe tbody tr th:only-of-type {\n",
       "        vertical-align: middle;\n",
       "    }\n",
       "\n",
       "    .dataframe tbody tr th {\n",
       "        vertical-align: top;\n",
       "    }\n",
       "\n",
       "    .dataframe thead th {\n",
       "        text-align: right;\n",
       "    }\n",
       "</style>\n",
       "<table border=\"1\" class=\"dataframe\">\n",
       "  <thead>\n",
       "    <tr style=\"text-align: right;\">\n",
       "      <th></th>\n",
       "      <th>0</th>\n",
       "      <th>1</th>\n",
       "      <th>2</th>\n",
       "    </tr>\n",
       "  </thead>\n",
       "  <tbody>\n",
       "    <tr>\n",
       "      <th>0</th>\n",
       "      <td>Jakarta</td>\n",
       "      <td>4</td>\n",
       "      <td>10000</td>\n",
       "    </tr>\n",
       "    <tr>\n",
       "      <th>1</th>\n",
       "      <td>Surabaya</td>\n",
       "      <td>2</td>\n",
       "      <td>6000</td>\n",
       "    </tr>\n",
       "    <tr>\n",
       "      <th>2</th>\n",
       "      <td>Bandung</td>\n",
       "      <td>2</td>\n",
       "      <td>8000</td>\n",
       "    </tr>\n",
       "  </tbody>\n",
       "</table>\n",
       "</div>"
      ],
      "text/plain": [
       "          0  1      2\n",
       "0   Jakarta  4  10000\n",
       "1  Surabaya  2   6000\n",
       "2   Bandung  2   8000"
      ]
     },
     "execution_count": 24,
     "metadata": {},
     "output_type": "execute_result"
    }
   ],
   "source": [
    "pd.DataFrame(zip(kota,toko,penjualan))\n",
    "#zip digunakan untuk membuat tuple berisikan data di posisi tertentu secara berurutan dari beberapa iterable"
   ]
  },
  {
   "cell_type": "code",
   "execution_count": 25,
   "metadata": {
    "ExecuteTime": {
     "end_time": "2022-02-16T04:58:53.095681Z",
     "start_time": "2022-02-16T04:58:53.082718Z"
    }
   },
   "outputs": [
    {
     "data": {
      "text/html": [
       "<div>\n",
       "<style scoped>\n",
       "    .dataframe tbody tr th:only-of-type {\n",
       "        vertical-align: middle;\n",
       "    }\n",
       "\n",
       "    .dataframe tbody tr th {\n",
       "        vertical-align: top;\n",
       "    }\n",
       "\n",
       "    .dataframe thead th {\n",
       "        text-align: right;\n",
       "    }\n",
       "</style>\n",
       "<table border=\"1\" class=\"dataframe\">\n",
       "  <thead>\n",
       "    <tr style=\"text-align: right;\">\n",
       "      <th></th>\n",
       "      <th>kota</th>\n",
       "      <th>toko</th>\n",
       "      <th>penjualan</th>\n",
       "    </tr>\n",
       "  </thead>\n",
       "  <tbody>\n",
       "    <tr>\n",
       "      <th>a</th>\n",
       "      <td>Jakarta</td>\n",
       "      <td>4</td>\n",
       "      <td>10000</td>\n",
       "    </tr>\n",
       "    <tr>\n",
       "      <th>b</th>\n",
       "      <td>Surabaya</td>\n",
       "      <td>2</td>\n",
       "      <td>6000</td>\n",
       "    </tr>\n",
       "    <tr>\n",
       "      <th>c</th>\n",
       "      <td>Bandung</td>\n",
       "      <td>2</td>\n",
       "      <td>8000</td>\n",
       "    </tr>\n",
       "  </tbody>\n",
       "</table>\n",
       "</div>"
      ],
      "text/plain": [
       "       kota  toko  penjualan\n",
       "a   Jakarta     4      10000\n",
       "b  Surabaya     2       6000\n",
       "c   Bandung     2       8000"
      ]
     },
     "execution_count": 25,
     "metadata": {},
     "output_type": "execute_result"
    }
   ],
   "source": [
    "pd.DataFrame(zip(kota,toko,penjualan),columns=['kota', 'toko', 'penjualan'],index='a b c'.split())"
   ]
  },
  {
   "cell_type": "code",
   "execution_count": 26,
   "metadata": {
    "ExecuteTime": {
     "end_time": "2022-02-16T04:58:53.111638Z",
     "start_time": "2022-02-16T04:58:53.098673Z"
    }
   },
   "outputs": [
    {
     "data": {
      "text/html": [
       "<div>\n",
       "<style scoped>\n",
       "    .dataframe tbody tr th:only-of-type {\n",
       "        vertical-align: middle;\n",
       "    }\n",
       "\n",
       "    .dataframe tbody tr th {\n",
       "        vertical-align: top;\n",
       "    }\n",
       "\n",
       "    .dataframe thead th {\n",
       "        text-align: right;\n",
       "    }\n",
       "</style>\n",
       "<table border=\"1\" class=\"dataframe\">\n",
       "  <thead>\n",
       "    <tr style=\"text-align: right;\">\n",
       "      <th></th>\n",
       "      <th>0</th>\n",
       "      <th>1</th>\n",
       "      <th>2</th>\n",
       "    </tr>\n",
       "  </thead>\n",
       "  <tbody>\n",
       "    <tr>\n",
       "      <th>0</th>\n",
       "      <td>Jakarta</td>\n",
       "      <td>4</td>\n",
       "      <td>10000</td>\n",
       "    </tr>\n",
       "    <tr>\n",
       "      <th>1</th>\n",
       "      <td>Surabaya</td>\n",
       "      <td>2</td>\n",
       "      <td>6000</td>\n",
       "    </tr>\n",
       "    <tr>\n",
       "      <th>2</th>\n",
       "      <td>Bandung</td>\n",
       "      <td>2</td>\n",
       "      <td>8000</td>\n",
       "    </tr>\n",
       "  </tbody>\n",
       "</table>\n",
       "</div>"
      ],
      "text/plain": [
       "          0  1      2\n",
       "0   Jakarta  4  10000\n",
       "1  Surabaya  2   6000\n",
       "2   Bandung  2   8000"
      ]
     },
     "execution_count": 26,
     "metadata": {},
     "output_type": "execute_result"
    }
   ],
   "source": [
    "pd.DataFrame(data=[kota,toko,penjualan]).T # bisa begini, tapi hati-hati dengan karena tipe data bisa tidak sesuai"
   ]
  },
  {
   "cell_type": "code",
   "execution_count": 27,
   "metadata": {
    "ExecuteTime": {
     "end_time": "2022-02-16T04:58:53.127597Z",
     "start_time": "2022-02-16T04:58:53.114634Z"
    }
   },
   "outputs": [
    {
     "data": {
      "text/plain": [
       "[[1, 2, 3, 4], [5, 6, 7, 8], [9, 10, 11, 12]]"
      ]
     },
     "execution_count": 27,
     "metadata": {},
     "output_type": "execute_result"
    }
   ],
   "source": [
    "# from list in list\n",
    "mylist=[[1,2,3,4],\n",
    "       [5,6,7,8],\n",
    "       [9,10,11,12]]\n",
    "mylist # semua list di dalam list harus berukuran sama"
   ]
  },
  {
   "cell_type": "code",
   "execution_count": 28,
   "metadata": {
    "ExecuteTime": {
     "end_time": "2022-02-16T04:58:53.143553Z",
     "start_time": "2022-02-16T04:58:53.130588Z"
    }
   },
   "outputs": [
    {
     "data": {
      "text/html": [
       "<div>\n",
       "<style scoped>\n",
       "    .dataframe tbody tr th:only-of-type {\n",
       "        vertical-align: middle;\n",
       "    }\n",
       "\n",
       "    .dataframe tbody tr th {\n",
       "        vertical-align: top;\n",
       "    }\n",
       "\n",
       "    .dataframe thead th {\n",
       "        text-align: right;\n",
       "    }\n",
       "</style>\n",
       "<table border=\"1\" class=\"dataframe\">\n",
       "  <thead>\n",
       "    <tr style=\"text-align: right;\">\n",
       "      <th></th>\n",
       "      <th>0</th>\n",
       "      <th>1</th>\n",
       "      <th>2</th>\n",
       "      <th>3</th>\n",
       "    </tr>\n",
       "  </thead>\n",
       "  <tbody>\n",
       "    <tr>\n",
       "      <th>0</th>\n",
       "      <td>1</td>\n",
       "      <td>2</td>\n",
       "      <td>3</td>\n",
       "      <td>4</td>\n",
       "    </tr>\n",
       "    <tr>\n",
       "      <th>1</th>\n",
       "      <td>5</td>\n",
       "      <td>6</td>\n",
       "      <td>7</td>\n",
       "      <td>8</td>\n",
       "    </tr>\n",
       "    <tr>\n",
       "      <th>2</th>\n",
       "      <td>9</td>\n",
       "      <td>10</td>\n",
       "      <td>11</td>\n",
       "      <td>12</td>\n",
       "    </tr>\n",
       "  </tbody>\n",
       "</table>\n",
       "</div>"
      ],
      "text/plain": [
       "   0   1   2   3\n",
       "0  1   2   3   4\n",
       "1  5   6   7   8\n",
       "2  9  10  11  12"
      ]
     },
     "execution_count": 28,
     "metadata": {},
     "output_type": "execute_result"
    }
   ],
   "source": [
    "pd.DataFrame(mylist) #tiap list di dalam list akan menjadi 1 baris"
   ]
  },
  {
   "cell_type": "code",
   "execution_count": 29,
   "metadata": {
    "ExecuteTime": {
     "end_time": "2022-02-16T04:58:53.174471Z",
     "start_time": "2022-02-16T04:58:53.147542Z"
    }
   },
   "outputs": [
    {
     "data": {
      "text/html": [
       "<div>\n",
       "<style scoped>\n",
       "    .dataframe tbody tr th:only-of-type {\n",
       "        vertical-align: middle;\n",
       "    }\n",
       "\n",
       "    .dataframe tbody tr th {\n",
       "        vertical-align: top;\n",
       "    }\n",
       "\n",
       "    .dataframe thead th {\n",
       "        text-align: right;\n",
       "    }\n",
       "</style>\n",
       "<table border=\"1\" class=\"dataframe\">\n",
       "  <thead>\n",
       "    <tr style=\"text-align: right;\">\n",
       "      <th></th>\n",
       "      <th>w</th>\n",
       "      <th>x</th>\n",
       "      <th>y</th>\n",
       "      <th>z</th>\n",
       "    </tr>\n",
       "  </thead>\n",
       "  <tbody>\n",
       "    <tr>\n",
       "      <th>a</th>\n",
       "      <td>1</td>\n",
       "      <td>2</td>\n",
       "      <td>3</td>\n",
       "      <td>4</td>\n",
       "    </tr>\n",
       "    <tr>\n",
       "      <th>b</th>\n",
       "      <td>5</td>\n",
       "      <td>6</td>\n",
       "      <td>7</td>\n",
       "      <td>8</td>\n",
       "    </tr>\n",
       "    <tr>\n",
       "      <th>c</th>\n",
       "      <td>9</td>\n",
       "      <td>10</td>\n",
       "      <td>11</td>\n",
       "      <td>12</td>\n",
       "    </tr>\n",
       "  </tbody>\n",
       "</table>\n",
       "</div>"
      ],
      "text/plain": [
       "   w   x   y   z\n",
       "a  1   2   3   4\n",
       "b  5   6   7   8\n",
       "c  9  10  11  12"
      ]
     },
     "execution_count": 29,
     "metadata": {},
     "output_type": "execute_result"
    }
   ],
   "source": [
    "pd.DataFrame(mylist,index='a b c'.split(),columns='w x y z'.split())"
   ]
  },
  {
   "cell_type": "code",
   "execution_count": 30,
   "metadata": {
    "ExecuteTime": {
     "end_time": "2022-02-16T04:58:53.189431Z",
     "start_time": "2022-02-16T04:58:53.178466Z"
    }
   },
   "outputs": [
    {
     "data": {
      "text/plain": [
       "array([[ 1,  2,  3,  4,  5,  6],\n",
       "       [ 7,  8,  9, 10, 11, 12],\n",
       "       [13, 14, 15, 16, 17, 18],\n",
       "       [19, 20, 21, 22, 23, 24]])"
      ]
     },
     "execution_count": 30,
     "metadata": {},
     "output_type": "execute_result"
    }
   ],
   "source": [
    "# DataFrame from matrix array\n",
    "mat=np.arange(1,25).reshape(4,-1)\n",
    "mat"
   ]
  },
  {
   "cell_type": "code",
   "execution_count": 31,
   "metadata": {
    "ExecuteTime": {
     "end_time": "2022-02-16T04:58:53.221345Z",
     "start_time": "2022-02-16T04:58:53.192423Z"
    }
   },
   "outputs": [
    {
     "data": {
      "text/html": [
       "<div>\n",
       "<style scoped>\n",
       "    .dataframe tbody tr th:only-of-type {\n",
       "        vertical-align: middle;\n",
       "    }\n",
       "\n",
       "    .dataframe tbody tr th {\n",
       "        vertical-align: top;\n",
       "    }\n",
       "\n",
       "    .dataframe thead th {\n",
       "        text-align: right;\n",
       "    }\n",
       "</style>\n",
       "<table border=\"1\" class=\"dataframe\">\n",
       "  <thead>\n",
       "    <tr style=\"text-align: right;\">\n",
       "      <th></th>\n",
       "      <th>a</th>\n",
       "      <th>b</th>\n",
       "      <th>c</th>\n",
       "      <th>d</th>\n",
       "      <th>e</th>\n",
       "      <th>f</th>\n",
       "    </tr>\n",
       "  </thead>\n",
       "  <tbody>\n",
       "    <tr>\n",
       "      <th>w</th>\n",
       "      <td>1</td>\n",
       "      <td>2</td>\n",
       "      <td>3</td>\n",
       "      <td>4</td>\n",
       "      <td>5</td>\n",
       "      <td>6</td>\n",
       "    </tr>\n",
       "    <tr>\n",
       "      <th>x</th>\n",
       "      <td>7</td>\n",
       "      <td>8</td>\n",
       "      <td>9</td>\n",
       "      <td>10</td>\n",
       "      <td>11</td>\n",
       "      <td>12</td>\n",
       "    </tr>\n",
       "    <tr>\n",
       "      <th>y</th>\n",
       "      <td>13</td>\n",
       "      <td>14</td>\n",
       "      <td>15</td>\n",
       "      <td>16</td>\n",
       "      <td>17</td>\n",
       "      <td>18</td>\n",
       "    </tr>\n",
       "    <tr>\n",
       "      <th>z</th>\n",
       "      <td>19</td>\n",
       "      <td>20</td>\n",
       "      <td>21</td>\n",
       "      <td>22</td>\n",
       "      <td>23</td>\n",
       "      <td>24</td>\n",
       "    </tr>\n",
       "  </tbody>\n",
       "</table>\n",
       "</div>"
      ],
      "text/plain": [
       "    a   b   c   d   e   f\n",
       "w   1   2   3   4   5   6\n",
       "x   7   8   9  10  11  12\n",
       "y  13  14  15  16  17  18\n",
       "z  19  20  21  22  23  24"
      ]
     },
     "execution_count": 31,
     "metadata": {},
     "output_type": "execute_result"
    }
   ],
   "source": [
    "pd.DataFrame(mat, columns='a b c d e f'.split(), index=['w','x','y','z'])"
   ]
  },
  {
   "cell_type": "code",
   "execution_count": 32,
   "metadata": {
    "ExecuteTime": {
     "end_time": "2022-02-16T04:58:53.237302Z",
     "start_time": "2022-02-16T04:58:53.225335Z"
    }
   },
   "outputs": [
    {
     "data": {
      "text/plain": [
       "{'Kota': ['Jakarta', 'Surabaya', 'Bandung'],\n",
       " 'Toko': [4, 2, 2],\n",
       " 'Penjualan': [10000, 6000, 8000]}"
      ]
     },
     "execution_count": 32,
     "metadata": {},
     "output_type": "execute_result"
    }
   ],
   "source": [
    "# DataFrame from Dictionary\n",
    "\n",
    "myDict={\n",
    "    'Kota':['Jakarta','Surabaya','Bandung'],\n",
    "    'Toko':[4,2,2],\n",
    "    'Penjualan':[10000,6000,8000]\n",
    "}\n",
    "myDict #panjang value di setiap key harus sama"
   ]
  },
  {
   "cell_type": "code",
   "execution_count": 33,
   "metadata": {
    "ExecuteTime": {
     "end_time": "2022-02-16T04:58:53.253262Z",
     "start_time": "2022-02-16T04:58:53.240296Z"
    }
   },
   "outputs": [
    {
     "data": {
      "text/html": [
       "<div>\n",
       "<style scoped>\n",
       "    .dataframe tbody tr th:only-of-type {\n",
       "        vertical-align: middle;\n",
       "    }\n",
       "\n",
       "    .dataframe tbody tr th {\n",
       "        vertical-align: top;\n",
       "    }\n",
       "\n",
       "    .dataframe thead th {\n",
       "        text-align: right;\n",
       "    }\n",
       "</style>\n",
       "<table border=\"1\" class=\"dataframe\">\n",
       "  <thead>\n",
       "    <tr style=\"text-align: right;\">\n",
       "      <th></th>\n",
       "      <th>Kota</th>\n",
       "      <th>Toko</th>\n",
       "      <th>Penjualan</th>\n",
       "    </tr>\n",
       "  </thead>\n",
       "  <tbody>\n",
       "    <tr>\n",
       "      <th>a</th>\n",
       "      <td>Jakarta</td>\n",
       "      <td>4</td>\n",
       "      <td>10000</td>\n",
       "    </tr>\n",
       "    <tr>\n",
       "      <th>b</th>\n",
       "      <td>Surabaya</td>\n",
       "      <td>2</td>\n",
       "      <td>6000</td>\n",
       "    </tr>\n",
       "    <tr>\n",
       "      <th>c</th>\n",
       "      <td>Bandung</td>\n",
       "      <td>2</td>\n",
       "      <td>8000</td>\n",
       "    </tr>\n",
       "  </tbody>\n",
       "</table>\n",
       "</div>"
      ],
      "text/plain": [
       "       Kota  Toko  Penjualan\n",
       "a   Jakarta     4      10000\n",
       "b  Surabaya     2       6000\n",
       "c   Bandung     2       8000"
      ]
     },
     "execution_count": 33,
     "metadata": {},
     "output_type": "execute_result"
    }
   ],
   "source": [
    "pd.DataFrame(myDict,index= 'a b c'.split()) #pada DataFrame, setiap key di dictionary akan menjadi nama kolom, \n",
    "# value di setiap key menjadi 1 kolom"
   ]
  },
  {
   "cell_type": "markdown",
   "metadata": {},
   "source": [
    "**Latihan** Buatlah DataFrame berikut, simpan di variabel df"
   ]
  },
  {
   "cell_type": "code",
   "execution_count": 34,
   "metadata": {
    "ExecuteTime": {
     "end_time": "2022-02-16T04:58:53.269218Z",
     "start_time": "2022-02-16T04:58:53.257250Z"
    }
   },
   "outputs": [],
   "source": [
    "df=pd.DataFrame({'name': ['Raven Bierman', 'Valter Havers', 'Marko Mendell', 'Takahiro Momota','Yahiko Tilemans', 'Dina Rebaine'],\n",
    "    'gender': ['Female','Male','Male','Male','Male','Female'],\n",
    "    'hire date': ['2016-12-04','2018-04-13','2018-07-04','2016-11-18','2017-05-26','2015-03-20'],\n",
    "    'gross salary':[7000000,7000000,15000000,12000000,20000000,15000000]},\n",
    "    index=[100111,100112,200210,200211,200312,300207])"
   ]
  },
  {
   "cell_type": "code",
   "execution_count": 35,
   "metadata": {
    "ExecuteTime": {
     "end_time": "2022-02-16T04:58:53.300134Z",
     "start_time": "2022-02-16T04:58:53.273206Z"
    }
   },
   "outputs": [
    {
     "data": {
      "text/html": [
       "<div>\n",
       "<style scoped>\n",
       "    .dataframe tbody tr th:only-of-type {\n",
       "        vertical-align: middle;\n",
       "    }\n",
       "\n",
       "    .dataframe tbody tr th {\n",
       "        vertical-align: top;\n",
       "    }\n",
       "\n",
       "    .dataframe thead th {\n",
       "        text-align: right;\n",
       "    }\n",
       "</style>\n",
       "<table border=\"1\" class=\"dataframe\">\n",
       "  <thead>\n",
       "    <tr style=\"text-align: right;\">\n",
       "      <th></th>\n",
       "      <th>name</th>\n",
       "      <th>gender</th>\n",
       "      <th>hire date</th>\n",
       "      <th>gross salary</th>\n",
       "    </tr>\n",
       "  </thead>\n",
       "  <tbody>\n",
       "    <tr>\n",
       "      <th>100111</th>\n",
       "      <td>Raven Bierman</td>\n",
       "      <td>Female</td>\n",
       "      <td>2016-12-04</td>\n",
       "      <td>7000000</td>\n",
       "    </tr>\n",
       "    <tr>\n",
       "      <th>100112</th>\n",
       "      <td>Valter Havers</td>\n",
       "      <td>Male</td>\n",
       "      <td>2018-04-13</td>\n",
       "      <td>7000000</td>\n",
       "    </tr>\n",
       "    <tr>\n",
       "      <th>200210</th>\n",
       "      <td>Marko Mendell</td>\n",
       "      <td>Male</td>\n",
       "      <td>2018-07-04</td>\n",
       "      <td>15000000</td>\n",
       "    </tr>\n",
       "    <tr>\n",
       "      <th>200211</th>\n",
       "      <td>Takahiro Momota</td>\n",
       "      <td>Male</td>\n",
       "      <td>2016-11-18</td>\n",
       "      <td>12000000</td>\n",
       "    </tr>\n",
       "    <tr>\n",
       "      <th>200312</th>\n",
       "      <td>Yahiko Tilemans</td>\n",
       "      <td>Male</td>\n",
       "      <td>2017-05-26</td>\n",
       "      <td>20000000</td>\n",
       "    </tr>\n",
       "    <tr>\n",
       "      <th>300207</th>\n",
       "      <td>Dina Rebaine</td>\n",
       "      <td>Female</td>\n",
       "      <td>2015-03-20</td>\n",
       "      <td>15000000</td>\n",
       "    </tr>\n",
       "  </tbody>\n",
       "</table>\n",
       "</div>"
      ],
      "text/plain": [
       "                   name  gender   hire date  gross salary\n",
       "100111    Raven Bierman  Female  2016-12-04       7000000\n",
       "100112    Valter Havers    Male  2018-04-13       7000000\n",
       "200210    Marko Mendell    Male  2018-07-04      15000000\n",
       "200211  Takahiro Momota    Male  2016-11-18      12000000\n",
       "200312  Yahiko Tilemans    Male  2017-05-26      20000000\n",
       "300207     Dina Rebaine  Female  2015-03-20      15000000"
      ]
     },
     "execution_count": 35,
     "metadata": {},
     "output_type": "execute_result"
    }
   ],
   "source": [
    "df"
   ]
  },
  {
   "cell_type": "markdown",
   "metadata": {},
   "source": [
    "## Index and Selection"
   ]
  },
  {
   "cell_type": "code",
   "execution_count": 36,
   "metadata": {
    "ExecuteTime": {
     "end_time": "2022-02-16T04:58:53.316091Z",
     "start_time": "2022-02-16T04:58:53.303128Z"
    }
   },
   "outputs": [
    {
     "data": {
      "text/plain": [
       "100111      Raven Bierman\n",
       "100112      Valter Havers\n",
       "200210      Marko Mendell\n",
       "200211    Takahiro Momota\n",
       "200312    Yahiko Tilemans\n",
       "300207       Dina Rebaine\n",
       "Name: name, dtype: object"
      ]
     },
     "execution_count": 36,
     "metadata": {},
     "output_type": "execute_result"
    }
   ],
   "source": [
    "# tanpa function apapun\n",
    "df['name'] # index kolom, baru baris\n",
    "# memanggil kolom name dari dataframe df"
   ]
  },
  {
   "cell_type": "code",
   "execution_count": 37,
   "metadata": {
    "ExecuteTime": {
     "end_time": "2022-02-16T04:58:53.331051Z",
     "start_time": "2022-02-16T04:58:53.319084Z"
    }
   },
   "outputs": [
    {
     "data": {
      "text/plain": [
       "'Raven Bierman'"
      ]
     },
     "execution_count": 37,
     "metadata": {},
     "output_type": "execute_result"
    }
   ],
   "source": [
    "df['name'][100111] # menampilkan nama karyawan dengan nomor index 100111"
   ]
  },
  {
   "cell_type": "code",
   "execution_count": 38,
   "metadata": {
    "ExecuteTime": {
     "end_time": "2022-02-16T04:58:53.347010Z",
     "start_time": "2022-02-16T04:58:53.334047Z"
    }
   },
   "outputs": [
    {
     "data": {
      "text/plain": [
       "100111      Raven Bierman\n",
       "200211    Takahiro Momota\n",
       "Name: name, dtype: object"
      ]
     },
     "execution_count": 38,
     "metadata": {},
     "output_type": "execute_result"
    }
   ],
   "source": [
    "df['name'][[100111,200211]] #fancy indexing, memanggil nama karyawan dengan 2 nomor index tidak berurutan"
   ]
  },
  {
   "cell_type": "code",
   "execution_count": 39,
   "metadata": {
    "ExecuteTime": {
     "end_time": "2022-02-16T04:58:53.362967Z",
     "start_time": "2022-02-16T04:58:53.350001Z"
    }
   },
   "outputs": [
    {
     "data": {
      "text/html": [
       "<div>\n",
       "<style scoped>\n",
       "    .dataframe tbody tr th:only-of-type {\n",
       "        vertical-align: middle;\n",
       "    }\n",
       "\n",
       "    .dataframe tbody tr th {\n",
       "        vertical-align: top;\n",
       "    }\n",
       "\n",
       "    .dataframe thead th {\n",
       "        text-align: right;\n",
       "    }\n",
       "</style>\n",
       "<table border=\"1\" class=\"dataframe\">\n",
       "  <thead>\n",
       "    <tr style=\"text-align: right;\">\n",
       "      <th></th>\n",
       "      <th>0</th>\n",
       "      <th>1</th>\n",
       "      <th>2</th>\n",
       "      <th>3</th>\n",
       "    </tr>\n",
       "  </thead>\n",
       "  <tbody>\n",
       "    <tr>\n",
       "      <th>0</th>\n",
       "      <td>1</td>\n",
       "      <td>2</td>\n",
       "      <td>3</td>\n",
       "      <td>4</td>\n",
       "    </tr>\n",
       "    <tr>\n",
       "      <th>1</th>\n",
       "      <td>5</td>\n",
       "      <td>6</td>\n",
       "      <td>7</td>\n",
       "      <td>8</td>\n",
       "    </tr>\n",
       "    <tr>\n",
       "      <th>2</th>\n",
       "      <td>9</td>\n",
       "      <td>10</td>\n",
       "      <td>11</td>\n",
       "      <td>12</td>\n",
       "    </tr>\n",
       "  </tbody>\n",
       "</table>\n",
       "</div>"
      ],
      "text/plain": [
       "   0   1   2   3\n",
       "0  1   2   3   4\n",
       "1  5   6   7   8\n",
       "2  9  10  11  12"
      ]
     },
     "execution_count": 39,
     "metadata": {},
     "output_type": "execute_result"
    }
   ],
   "source": [
    "\n",
    "contoh=pd.DataFrame(mylist)\n",
    "contoh"
   ]
  },
  {
   "cell_type": "code",
   "execution_count": 40,
   "metadata": {
    "ExecuteTime": {
     "end_time": "2022-02-16T04:58:53.378925Z",
     "start_time": "2022-02-16T04:58:53.366956Z"
    }
   },
   "outputs": [
    {
     "data": {
      "text/plain": [
       "0    1\n",
       "1    5\n",
       "Name: 0, dtype: int64"
      ]
     },
     "execution_count": 40,
     "metadata": {},
     "output_type": "execute_result"
    }
   ],
   "source": [
    "contoh[0][:2] #slicing, bisa dipakai dengan index default"
   ]
  },
  {
   "cell_type": "code",
   "execution_count": 41,
   "metadata": {
    "ExecuteTime": {
     "end_time": "2022-02-16T04:58:53.410859Z",
     "start_time": "2022-02-16T04:58:53.381917Z"
    }
   },
   "outputs": [
    {
     "data": {
      "text/html": [
       "<div>\n",
       "<style scoped>\n",
       "    .dataframe tbody tr th:only-of-type {\n",
       "        vertical-align: middle;\n",
       "    }\n",
       "\n",
       "    .dataframe tbody tr th {\n",
       "        vertical-align: top;\n",
       "    }\n",
       "\n",
       "    .dataframe thead th {\n",
       "        text-align: right;\n",
       "    }\n",
       "</style>\n",
       "<table border=\"1\" class=\"dataframe\">\n",
       "  <thead>\n",
       "    <tr style=\"text-align: right;\">\n",
       "      <th></th>\n",
       "      <th>name</th>\n",
       "      <th>gross salary</th>\n",
       "    </tr>\n",
       "  </thead>\n",
       "  <tbody>\n",
       "    <tr>\n",
       "      <th>100111</th>\n",
       "      <td>Raven Bierman</td>\n",
       "      <td>7000000</td>\n",
       "    </tr>\n",
       "    <tr>\n",
       "      <th>100112</th>\n",
       "      <td>Valter Havers</td>\n",
       "      <td>7000000</td>\n",
       "    </tr>\n",
       "    <tr>\n",
       "      <th>200210</th>\n",
       "      <td>Marko Mendell</td>\n",
       "      <td>15000000</td>\n",
       "    </tr>\n",
       "    <tr>\n",
       "      <th>200211</th>\n",
       "      <td>Takahiro Momota</td>\n",
       "      <td>12000000</td>\n",
       "    </tr>\n",
       "    <tr>\n",
       "      <th>200312</th>\n",
       "      <td>Yahiko Tilemans</td>\n",
       "      <td>20000000</td>\n",
       "    </tr>\n",
       "    <tr>\n",
       "      <th>300207</th>\n",
       "      <td>Dina Rebaine</td>\n",
       "      <td>15000000</td>\n",
       "    </tr>\n",
       "  </tbody>\n",
       "</table>\n",
       "</div>"
      ],
      "text/plain": [
       "                   name  gross salary\n",
       "100111    Raven Bierman       7000000\n",
       "100112    Valter Havers       7000000\n",
       "200210    Marko Mendell      15000000\n",
       "200211  Takahiro Momota      12000000\n",
       "200312  Yahiko Tilemans      20000000\n",
       "300207     Dina Rebaine      15000000"
      ]
     },
     "execution_count": 41,
     "metadata": {},
     "output_type": "execute_result"
    }
   ],
   "source": [
    "df[['name','gross salary']] #perhatikan jumlah bracket\n",
    "# memanggil lebih dari 1 kolom"
   ]
  },
  {
   "cell_type": "code",
   "execution_count": 42,
   "metadata": {
    "ExecuteTime": {
     "end_time": "2022-02-16T04:58:53.426796Z",
     "start_time": "2022-02-16T04:58:53.416824Z"
    }
   },
   "outputs": [
    {
     "data": {
      "text/plain": [
       "100111      Raven Bierman\n",
       "100112      Valter Havers\n",
       "200210      Marko Mendell\n",
       "200211    Takahiro Momota\n",
       "200312    Yahiko Tilemans\n",
       "300207       Dina Rebaine\n",
       "Name: name, dtype: object"
      ]
     },
     "execution_count": 42,
     "metadata": {},
     "output_type": "execute_result"
    }
   ],
   "source": [
    "# attribute access untuk memanggil kolom\n",
    "# tidak disarankan dipakai\n",
    "df.name"
   ]
  },
  {
   "cell_type": "code",
   "execution_count": 43,
   "metadata": {
    "ExecuteTime": {
     "end_time": "2022-02-16T04:58:53.458710Z",
     "start_time": "2022-02-16T04:58:53.430786Z"
    }
   },
   "outputs": [
    {
     "data": {
      "text/html": [
       "<div>\n",
       "<style scoped>\n",
       "    .dataframe tbody tr th:only-of-type {\n",
       "        vertical-align: middle;\n",
       "    }\n",
       "\n",
       "    .dataframe tbody tr th {\n",
       "        vertical-align: top;\n",
       "    }\n",
       "\n",
       "    .dataframe thead th {\n",
       "        text-align: right;\n",
       "    }\n",
       "</style>\n",
       "<table border=\"1\" class=\"dataframe\">\n",
       "  <thead>\n",
       "    <tr style=\"text-align: right;\">\n",
       "      <th></th>\n",
       "      <th>0</th>\n",
       "      <th>1</th>\n",
       "      <th>2</th>\n",
       "      <th>3</th>\n",
       "      <th>min</th>\n",
       "    </tr>\n",
       "  </thead>\n",
       "  <tbody>\n",
       "    <tr>\n",
       "      <th>0</th>\n",
       "      <td>1</td>\n",
       "      <td>2</td>\n",
       "      <td>3</td>\n",
       "      <td>4</td>\n",
       "      <td>22</td>\n",
       "    </tr>\n",
       "    <tr>\n",
       "      <th>1</th>\n",
       "      <td>5</td>\n",
       "      <td>6</td>\n",
       "      <td>7</td>\n",
       "      <td>8</td>\n",
       "      <td>23</td>\n",
       "    </tr>\n",
       "    <tr>\n",
       "      <th>2</th>\n",
       "      <td>9</td>\n",
       "      <td>10</td>\n",
       "      <td>11</td>\n",
       "      <td>12</td>\n",
       "      <td>24</td>\n",
       "    </tr>\n",
       "  </tbody>\n",
       "</table>\n",
       "</div>"
      ],
      "text/plain": [
       "   0   1   2   3  min\n",
       "0  1   2   3   4   22\n",
       "1  5   6   7   8   23\n",
       "2  9  10  11  12   24"
      ]
     },
     "execution_count": 43,
     "metadata": {},
     "output_type": "execute_result"
    }
   ],
   "source": [
    "contoh['min']=[22,23,24]\n",
    "contoh"
   ]
  },
  {
   "cell_type": "code",
   "execution_count": 44,
   "metadata": {
    "ExecuteTime": {
     "end_time": "2022-02-16T04:58:53.474668Z",
     "start_time": "2022-02-16T04:58:53.461703Z"
    }
   },
   "outputs": [
    {
     "data": {
      "text/plain": [
       "<bound method DataFrame.min of    0   1   2   3  min\n",
       "0  1   2   3   4   22\n",
       "1  5   6   7   8   23\n",
       "2  9  10  11  12   24>"
      ]
     },
     "execution_count": 44,
     "metadata": {},
     "output_type": "execute_result"
    }
   ],
   "source": [
    "contoh.min # output aneh, karena min juga merupakan nama fuction untuk dataframe"
   ]
  },
  {
   "cell_type": "code",
   "execution_count": 45,
   "metadata": {
    "ExecuteTime": {
     "end_time": "2022-02-16T04:58:53.490625Z",
     "start_time": "2022-02-16T04:58:53.477660Z"
    }
   },
   "outputs": [
    {
     "data": {
      "text/plain": [
       "0    22\n",
       "1    23\n",
       "2    24\n",
       "Name: min, dtype: int64"
      ]
     },
     "execution_count": 45,
     "metadata": {},
     "output_type": "execute_result"
    }
   ],
   "source": [
    "contoh['min'] #lebih disarankan"
   ]
  },
  {
   "cell_type": "code",
   "execution_count": 46,
   "metadata": {
    "ExecuteTime": {
     "end_time": "2022-02-16T04:58:53.521543Z",
     "start_time": "2022-02-16T04:58:53.495615Z"
    }
   },
   "outputs": [
    {
     "data": {
      "text/html": [
       "<div>\n",
       "<style scoped>\n",
       "    .dataframe tbody tr th:only-of-type {\n",
       "        vertical-align: middle;\n",
       "    }\n",
       "\n",
       "    .dataframe tbody tr th {\n",
       "        vertical-align: top;\n",
       "    }\n",
       "\n",
       "    .dataframe thead th {\n",
       "        text-align: right;\n",
       "    }\n",
       "</style>\n",
       "<table border=\"1\" class=\"dataframe\">\n",
       "  <thead>\n",
       "    <tr style=\"text-align: right;\">\n",
       "      <th></th>\n",
       "      <th>name</th>\n",
       "      <th>gender</th>\n",
       "      <th>hire date</th>\n",
       "      <th>gross salary</th>\n",
       "    </tr>\n",
       "  </thead>\n",
       "  <tbody>\n",
       "    <tr>\n",
       "      <th>100111</th>\n",
       "      <td>Raven Bierman</td>\n",
       "      <td>Female</td>\n",
       "      <td>2016-12-04</td>\n",
       "      <td>7000000</td>\n",
       "    </tr>\n",
       "    <tr>\n",
       "      <th>100112</th>\n",
       "      <td>Valter Havers</td>\n",
       "      <td>Male</td>\n",
       "      <td>2018-04-13</td>\n",
       "      <td>7000000</td>\n",
       "    </tr>\n",
       "    <tr>\n",
       "      <th>200210</th>\n",
       "      <td>Marko Mendell</td>\n",
       "      <td>Male</td>\n",
       "      <td>2018-07-04</td>\n",
       "      <td>15000000</td>\n",
       "    </tr>\n",
       "    <tr>\n",
       "      <th>200211</th>\n",
       "      <td>Takahiro Momota</td>\n",
       "      <td>Male</td>\n",
       "      <td>2016-11-18</td>\n",
       "      <td>12000000</td>\n",
       "    </tr>\n",
       "    <tr>\n",
       "      <th>200312</th>\n",
       "      <td>Yahiko Tilemans</td>\n",
       "      <td>Male</td>\n",
       "      <td>2017-05-26</td>\n",
       "      <td>20000000</td>\n",
       "    </tr>\n",
       "    <tr>\n",
       "      <th>300207</th>\n",
       "      <td>Dina Rebaine</td>\n",
       "      <td>Female</td>\n",
       "      <td>2015-03-20</td>\n",
       "      <td>15000000</td>\n",
       "    </tr>\n",
       "  </tbody>\n",
       "</table>\n",
       "</div>"
      ],
      "text/plain": [
       "                   name  gender   hire date  gross salary\n",
       "100111    Raven Bierman  Female  2016-12-04       7000000\n",
       "100112    Valter Havers    Male  2018-04-13       7000000\n",
       "200210    Marko Mendell    Male  2018-07-04      15000000\n",
       "200211  Takahiro Momota    Male  2016-11-18      12000000\n",
       "200312  Yahiko Tilemans    Male  2017-05-26      20000000\n",
       "300207     Dina Rebaine  Female  2015-03-20      15000000"
      ]
     },
     "execution_count": 46,
     "metadata": {},
     "output_type": "execute_result"
    }
   ],
   "source": [
    "# dengan function loc\n",
    "df"
   ]
  },
  {
   "cell_type": "code",
   "execution_count": 47,
   "metadata": {
    "ExecuteTime": {
     "end_time": "2022-02-16T04:58:53.536503Z",
     "start_time": "2022-02-16T04:58:53.524535Z"
    }
   },
   "outputs": [
    {
     "data": {
      "text/plain": [
       "name            Takahiro Momota\n",
       "gender                     Male\n",
       "hire date            2016-11-18\n",
       "gross salary           12000000\n",
       "Name: 200211, dtype: object"
      ]
     },
     "execution_count": 47,
     "metadata": {},
     "output_type": "execute_result"
    }
   ],
   "source": [
    "df.loc[200211] # untuk memanggil data berdasarkan label index/baris #perhatikan bahwa loc memakai []"
   ]
  },
  {
   "cell_type": "code",
   "execution_count": 48,
   "metadata": {
    "ExecuteTime": {
     "end_time": "2022-02-16T04:58:53.567420Z",
     "start_time": "2022-02-16T04:58:53.540493Z"
    }
   },
   "outputs": [
    {
     "data": {
      "text/html": [
       "<div>\n",
       "<style scoped>\n",
       "    .dataframe tbody tr th:only-of-type {\n",
       "        vertical-align: middle;\n",
       "    }\n",
       "\n",
       "    .dataframe tbody tr th {\n",
       "        vertical-align: top;\n",
       "    }\n",
       "\n",
       "    .dataframe thead th {\n",
       "        text-align: right;\n",
       "    }\n",
       "</style>\n",
       "<table border=\"1\" class=\"dataframe\">\n",
       "  <thead>\n",
       "    <tr style=\"text-align: right;\">\n",
       "      <th></th>\n",
       "      <th>name</th>\n",
       "      <th>gender</th>\n",
       "      <th>hire date</th>\n",
       "      <th>gross salary</th>\n",
       "    </tr>\n",
       "  </thead>\n",
       "  <tbody>\n",
       "    <tr>\n",
       "      <th>100112</th>\n",
       "      <td>Valter Havers</td>\n",
       "      <td>Male</td>\n",
       "      <td>2018-04-13</td>\n",
       "      <td>7000000</td>\n",
       "    </tr>\n",
       "    <tr>\n",
       "      <th>200210</th>\n",
       "      <td>Marko Mendell</td>\n",
       "      <td>Male</td>\n",
       "      <td>2018-07-04</td>\n",
       "      <td>15000000</td>\n",
       "    </tr>\n",
       "    <tr>\n",
       "      <th>200211</th>\n",
       "      <td>Takahiro Momota</td>\n",
       "      <td>Male</td>\n",
       "      <td>2016-11-18</td>\n",
       "      <td>12000000</td>\n",
       "    </tr>\n",
       "    <tr>\n",
       "      <th>200312</th>\n",
       "      <td>Yahiko Tilemans</td>\n",
       "      <td>Male</td>\n",
       "      <td>2017-05-26</td>\n",
       "      <td>20000000</td>\n",
       "    </tr>\n",
       "  </tbody>\n",
       "</table>\n",
       "</div>"
      ],
      "text/plain": [
       "                   name gender   hire date  gross salary\n",
       "100112    Valter Havers   Male  2018-04-13       7000000\n",
       "200210    Marko Mendell   Male  2018-07-04      15000000\n",
       "200211  Takahiro Momota   Male  2016-11-18      12000000\n",
       "200312  Yahiko Tilemans   Male  2017-05-26      20000000"
      ]
     },
     "execution_count": 48,
     "metadata": {},
     "output_type": "execute_result"
    }
   ],
   "source": [
    "df.loc[100112:200312] #slicing berdasarkan LABEL index\n",
    "#perhatikan bahwa tidak seperti slicing biasa, data 200312 juga ikut terpanggil"
   ]
  },
  {
   "cell_type": "code",
   "execution_count": 49,
   "metadata": {
    "ExecuteTime": {
     "end_time": "2022-02-16T04:58:53.582381Z",
     "start_time": "2022-02-16T04:58:53.570413Z"
    }
   },
   "outputs": [
    {
     "data": {
      "text/plain": [
       "'2016-11-18'"
      ]
     },
     "execution_count": 49,
     "metadata": {},
     "output_type": "execute_result"
    }
   ],
   "source": [
    "df.loc[200211,'hire date'] #hire date dari karyawan dengan nomor index 200211"
   ]
  },
  {
   "cell_type": "code",
   "execution_count": 50,
   "metadata": {
    "ExecuteTime": {
     "end_time": "2022-02-16T04:58:53.614296Z",
     "start_time": "2022-02-16T04:58:53.585372Z"
    },
    "scrolled": true
   },
   "outputs": [
    {
     "data": {
      "text/html": [
       "<div>\n",
       "<style scoped>\n",
       "    .dataframe tbody tr th:only-of-type {\n",
       "        vertical-align: middle;\n",
       "    }\n",
       "\n",
       "    .dataframe tbody tr th {\n",
       "        vertical-align: top;\n",
       "    }\n",
       "\n",
       "    .dataframe thead th {\n",
       "        text-align: right;\n",
       "    }\n",
       "</style>\n",
       "<table border=\"1\" class=\"dataframe\">\n",
       "  <thead>\n",
       "    <tr style=\"text-align: right;\">\n",
       "      <th></th>\n",
       "      <th>name</th>\n",
       "      <th>gender</th>\n",
       "      <th>hire date</th>\n",
       "      <th>gross salary</th>\n",
       "    </tr>\n",
       "  </thead>\n",
       "  <tbody>\n",
       "    <tr>\n",
       "      <th>100111</th>\n",
       "      <td>Raven Bierman</td>\n",
       "      <td>Female</td>\n",
       "      <td>2016-12-04</td>\n",
       "      <td>7000000</td>\n",
       "    </tr>\n",
       "    <tr>\n",
       "      <th>100112</th>\n",
       "      <td>Valter Havers</td>\n",
       "      <td>Male</td>\n",
       "      <td>2018-04-13</td>\n",
       "      <td>7000000</td>\n",
       "    </tr>\n",
       "    <tr>\n",
       "      <th>200210</th>\n",
       "      <td>Marko Mendell</td>\n",
       "      <td>Male</td>\n",
       "      <td>2018-07-04</td>\n",
       "      <td>15000000</td>\n",
       "    </tr>\n",
       "    <tr>\n",
       "      <th>200211</th>\n",
       "      <td>Takahiro Momota</td>\n",
       "      <td>Male</td>\n",
       "      <td>2016-11-18</td>\n",
       "      <td>12000000</td>\n",
       "    </tr>\n",
       "    <tr>\n",
       "      <th>200312</th>\n",
       "      <td>Yahiko Tilemans</td>\n",
       "      <td>Male</td>\n",
       "      <td>2017-05-26</td>\n",
       "      <td>20000000</td>\n",
       "    </tr>\n",
       "    <tr>\n",
       "      <th>300207</th>\n",
       "      <td>Dina Rebaine</td>\n",
       "      <td>Female</td>\n",
       "      <td>2015-03-20</td>\n",
       "      <td>15000000</td>\n",
       "    </tr>\n",
       "  </tbody>\n",
       "</table>\n",
       "</div>"
      ],
      "text/plain": [
       "                   name  gender   hire date  gross salary\n",
       "100111    Raven Bierman  Female  2016-12-04       7000000\n",
       "100112    Valter Havers    Male  2018-04-13       7000000\n",
       "200210    Marko Mendell    Male  2018-07-04      15000000\n",
       "200211  Takahiro Momota    Male  2016-11-18      12000000\n",
       "200312  Yahiko Tilemans    Male  2017-05-26      20000000\n",
       "300207     Dina Rebaine  Female  2015-03-20      15000000"
      ]
     },
     "execution_count": 50,
     "metadata": {},
     "output_type": "execute_result"
    }
   ],
   "source": [
    "# dengan fungsi iloc\n",
    "df"
   ]
  },
  {
   "cell_type": "code",
   "execution_count": 51,
   "metadata": {
    "ExecuteTime": {
     "end_time": "2022-02-16T04:58:53.630252Z",
     "start_time": "2022-02-16T04:58:53.617287Z"
    }
   },
   "outputs": [
    {
     "data": {
      "text/plain": [
       "name            Marko Mendell\n",
       "gender                   Male\n",
       "hire date          2018-07-04\n",
       "gross salary         15000000\n",
       "Name: 200210, dtype: object"
      ]
     },
     "execution_count": 51,
     "metadata": {},
     "output_type": "execute_result"
    }
   ],
   "source": [
    "df.iloc[2] #memanggil data berdasarkan **posisi** index/kolom"
   ]
  },
  {
   "cell_type": "code",
   "execution_count": 52,
   "metadata": {
    "ExecuteTime": {
     "end_time": "2022-02-16T04:58:53.646209Z",
     "start_time": "2022-02-16T04:58:53.634244Z"
    }
   },
   "outputs": [
    {
     "data": {
      "text/plain": [
       "100111    Female\n",
       "100112      Male\n",
       "200210      Male\n",
       "200211      Male\n",
       "200312      Male\n",
       "300207    Female\n",
       "Name: gender, dtype: object"
      ]
     },
     "execution_count": 52,
     "metadata": {},
     "output_type": "execute_result"
    }
   ],
   "source": [
    "df.iloc[:,1] # memanggil semua data pada kolom posisi 1 (gender)"
   ]
  },
  {
   "cell_type": "code",
   "execution_count": 53,
   "metadata": {
    "ExecuteTime": {
     "end_time": "2022-02-16T04:58:53.678123Z",
     "start_time": "2022-02-16T04:58:53.649202Z"
    }
   },
   "outputs": [
    {
     "data": {
      "text/html": [
       "<div>\n",
       "<style scoped>\n",
       "    .dataframe tbody tr th:only-of-type {\n",
       "        vertical-align: middle;\n",
       "    }\n",
       "\n",
       "    .dataframe tbody tr th {\n",
       "        vertical-align: top;\n",
       "    }\n",
       "\n",
       "    .dataframe thead th {\n",
       "        text-align: right;\n",
       "    }\n",
       "</style>\n",
       "<table border=\"1\" class=\"dataframe\">\n",
       "  <thead>\n",
       "    <tr style=\"text-align: right;\">\n",
       "      <th></th>\n",
       "      <th>name</th>\n",
       "      <th>gender</th>\n",
       "      <th>hire date</th>\n",
       "      <th>gross salary</th>\n",
       "    </tr>\n",
       "  </thead>\n",
       "  <tbody>\n",
       "    <tr>\n",
       "      <th>100111</th>\n",
       "      <td>Raven Bierman</td>\n",
       "      <td>Female</td>\n",
       "      <td>2016-12-04</td>\n",
       "      <td>7000000</td>\n",
       "    </tr>\n",
       "    <tr>\n",
       "      <th>100112</th>\n",
       "      <td>Valter Havers</td>\n",
       "      <td>Male</td>\n",
       "      <td>2018-04-13</td>\n",
       "      <td>7000000</td>\n",
       "    </tr>\n",
       "    <tr>\n",
       "      <th>200210</th>\n",
       "      <td>Marko Mendell</td>\n",
       "      <td>Male</td>\n",
       "      <td>2018-07-04</td>\n",
       "      <td>15000000</td>\n",
       "    </tr>\n",
       "    <tr>\n",
       "      <th>200211</th>\n",
       "      <td>Takahiro Momota</td>\n",
       "      <td>Male</td>\n",
       "      <td>2016-11-18</td>\n",
       "      <td>12000000</td>\n",
       "    </tr>\n",
       "    <tr>\n",
       "      <th>200312</th>\n",
       "      <td>Yahiko Tilemans</td>\n",
       "      <td>Male</td>\n",
       "      <td>2017-05-26</td>\n",
       "      <td>20000000</td>\n",
       "    </tr>\n",
       "    <tr>\n",
       "      <th>300207</th>\n",
       "      <td>Dina Rebaine</td>\n",
       "      <td>Female</td>\n",
       "      <td>2015-03-20</td>\n",
       "      <td>15000000</td>\n",
       "    </tr>\n",
       "  </tbody>\n",
       "</table>\n",
       "</div>"
      ],
      "text/plain": [
       "                   name  gender   hire date  gross salary\n",
       "100111    Raven Bierman  Female  2016-12-04       7000000\n",
       "100112    Valter Havers    Male  2018-04-13       7000000\n",
       "200210    Marko Mendell    Male  2018-07-04      15000000\n",
       "200211  Takahiro Momota    Male  2016-11-18      12000000\n",
       "200312  Yahiko Tilemans    Male  2017-05-26      20000000\n",
       "300207     Dina Rebaine  Female  2015-03-20      15000000"
      ]
     },
     "execution_count": 53,
     "metadata": {},
     "output_type": "execute_result"
    }
   ],
   "source": [
    "df"
   ]
  },
  {
   "cell_type": "code",
   "execution_count": 54,
   "metadata": {
    "ExecuteTime": {
     "end_time": "2022-02-16T04:58:53.709041Z",
     "start_time": "2022-02-16T04:58:53.682122Z"
    }
   },
   "outputs": [
    {
     "data": {
      "text/html": [
       "<div>\n",
       "<style scoped>\n",
       "    .dataframe tbody tr th:only-of-type {\n",
       "        vertical-align: middle;\n",
       "    }\n",
       "\n",
       "    .dataframe tbody tr th {\n",
       "        vertical-align: top;\n",
       "    }\n",
       "\n",
       "    .dataframe thead th {\n",
       "        text-align: right;\n",
       "    }\n",
       "</style>\n",
       "<table border=\"1\" class=\"dataframe\">\n",
       "  <thead>\n",
       "    <tr style=\"text-align: right;\">\n",
       "      <th></th>\n",
       "      <th>name</th>\n",
       "      <th>gender</th>\n",
       "      <th>hire date</th>\n",
       "      <th>gross salary</th>\n",
       "    </tr>\n",
       "  </thead>\n",
       "  <tbody>\n",
       "    <tr>\n",
       "      <th>100112</th>\n",
       "      <td>Valter Havers</td>\n",
       "      <td>Male</td>\n",
       "      <td>2018-04-13</td>\n",
       "      <td>7000000</td>\n",
       "    </tr>\n",
       "    <tr>\n",
       "      <th>200210</th>\n",
       "      <td>Marko Mendell</td>\n",
       "      <td>Male</td>\n",
       "      <td>2018-07-04</td>\n",
       "      <td>15000000</td>\n",
       "    </tr>\n",
       "    <tr>\n",
       "      <th>200211</th>\n",
       "      <td>Takahiro Momota</td>\n",
       "      <td>Male</td>\n",
       "      <td>2016-11-18</td>\n",
       "      <td>12000000</td>\n",
       "    </tr>\n",
       "  </tbody>\n",
       "</table>\n",
       "</div>"
      ],
      "text/plain": [
       "                   name gender   hire date  gross salary\n",
       "100112    Valter Havers   Male  2018-04-13       7000000\n",
       "200210    Marko Mendell   Male  2018-07-04      15000000\n",
       "200211  Takahiro Momota   Male  2016-11-18      12000000"
      ]
     },
     "execution_count": 54,
     "metadata": {},
     "output_type": "execute_result"
    }
   ],
   "source": [
    "df[1:4] # memanggil data pada posisi index 1 sampai sebelum 4"
   ]
  },
  {
   "cell_type": "code",
   "execution_count": 55,
   "metadata": {
    "ExecuteTime": {
     "end_time": "2022-02-16T04:58:53.739959Z",
     "start_time": "2022-02-16T04:58:53.712035Z"
    }
   },
   "outputs": [
    {
     "data": {
      "text/html": [
       "<div>\n",
       "<style scoped>\n",
       "    .dataframe tbody tr th:only-of-type {\n",
       "        vertical-align: middle;\n",
       "    }\n",
       "\n",
       "    .dataframe tbody tr th {\n",
       "        vertical-align: top;\n",
       "    }\n",
       "\n",
       "    .dataframe thead th {\n",
       "        text-align: right;\n",
       "    }\n",
       "</style>\n",
       "<table border=\"1\" class=\"dataframe\">\n",
       "  <thead>\n",
       "    <tr style=\"text-align: right;\">\n",
       "      <th></th>\n",
       "      <th>name</th>\n",
       "      <th>gender</th>\n",
       "      <th>hire date</th>\n",
       "      <th>gross salary</th>\n",
       "    </tr>\n",
       "  </thead>\n",
       "  <tbody>\n",
       "    <tr>\n",
       "      <th>100111</th>\n",
       "      <td>Raven Bierman</td>\n",
       "      <td>Female</td>\n",
       "      <td>2016-12-04</td>\n",
       "      <td>7000000</td>\n",
       "    </tr>\n",
       "    <tr>\n",
       "      <th>200210</th>\n",
       "      <td>Marko Mendell</td>\n",
       "      <td>Male</td>\n",
       "      <td>2018-07-04</td>\n",
       "      <td>15000000</td>\n",
       "    </tr>\n",
       "    <tr>\n",
       "      <th>200312</th>\n",
       "      <td>Yahiko Tilemans</td>\n",
       "      <td>Male</td>\n",
       "      <td>2017-05-26</td>\n",
       "      <td>20000000</td>\n",
       "    </tr>\n",
       "  </tbody>\n",
       "</table>\n",
       "</div>"
      ],
      "text/plain": [
       "                   name  gender   hire date  gross salary\n",
       "100111    Raven Bierman  Female  2016-12-04       7000000\n",
       "200210    Marko Mendell    Male  2018-07-04      15000000\n",
       "200312  Yahiko Tilemans    Male  2017-05-26      20000000"
      ]
     },
     "execution_count": 55,
     "metadata": {},
     "output_type": "execute_result"
    }
   ],
   "source": [
    "df.iloc[::2] #memanggil semua data, dilongkap 1 (karena step=2)"
   ]
  },
  {
   "cell_type": "markdown",
   "metadata": {
    "ExecuteTime": {
     "end_time": "2022-02-16T04:15:35.285611Z",
     "start_time": "2022-02-16T04:15:35.276636Z"
    }
   },
   "source": [
    "## Conditional Selection"
   ]
  },
  {
   "cell_type": "code",
   "execution_count": 56,
   "metadata": {
    "ExecuteTime": {
     "end_time": "2022-02-16T04:58:53.755917Z",
     "start_time": "2022-02-16T04:58:53.742951Z"
    }
   },
   "outputs": [
    {
     "data": {
      "text/html": [
       "<div>\n",
       "<style scoped>\n",
       "    .dataframe tbody tr th:only-of-type {\n",
       "        vertical-align: middle;\n",
       "    }\n",
       "\n",
       "    .dataframe tbody tr th {\n",
       "        vertical-align: top;\n",
       "    }\n",
       "\n",
       "    .dataframe thead th {\n",
       "        text-align: right;\n",
       "    }\n",
       "</style>\n",
       "<table border=\"1\" class=\"dataframe\">\n",
       "  <thead>\n",
       "    <tr style=\"text-align: right;\">\n",
       "      <th></th>\n",
       "      <th>0</th>\n",
       "      <th>1</th>\n",
       "      <th>2</th>\n",
       "      <th>3</th>\n",
       "      <th>4</th>\n",
       "    </tr>\n",
       "  </thead>\n",
       "  <tbody>\n",
       "    <tr>\n",
       "      <th>0</th>\n",
       "      <td>0</td>\n",
       "      <td>1</td>\n",
       "      <td>2</td>\n",
       "      <td>3</td>\n",
       "      <td>4</td>\n",
       "    </tr>\n",
       "    <tr>\n",
       "      <th>1</th>\n",
       "      <td>5</td>\n",
       "      <td>6</td>\n",
       "      <td>7</td>\n",
       "      <td>8</td>\n",
       "      <td>9</td>\n",
       "    </tr>\n",
       "    <tr>\n",
       "      <th>2</th>\n",
       "      <td>10</td>\n",
       "      <td>11</td>\n",
       "      <td>12</td>\n",
       "      <td>13</td>\n",
       "      <td>14</td>\n",
       "    </tr>\n",
       "    <tr>\n",
       "      <th>3</th>\n",
       "      <td>15</td>\n",
       "      <td>16</td>\n",
       "      <td>17</td>\n",
       "      <td>18</td>\n",
       "      <td>19</td>\n",
       "    </tr>\n",
       "  </tbody>\n",
       "</table>\n",
       "</div>"
      ],
      "text/plain": [
       "    0   1   2   3   4\n",
       "0   0   1   2   3   4\n",
       "1   5   6   7   8   9\n",
       "2  10  11  12  13  14\n",
       "3  15  16  17  18  19"
      ]
     },
     "execution_count": 56,
     "metadata": {},
     "output_type": "execute_result"
    }
   ],
   "source": [
    "contoh2=pd.DataFrame(np.arange(0,20).reshape(4,-1))\n",
    "contoh2"
   ]
  },
  {
   "cell_type": "code",
   "execution_count": 57,
   "metadata": {
    "ExecuteTime": {
     "end_time": "2022-02-16T04:58:53.803788Z",
     "start_time": "2022-02-16T04:58:53.758908Z"
    }
   },
   "outputs": [
    {
     "data": {
      "text/html": [
       "<div>\n",
       "<style scoped>\n",
       "    .dataframe tbody tr th:only-of-type {\n",
       "        vertical-align: middle;\n",
       "    }\n",
       "\n",
       "    .dataframe tbody tr th {\n",
       "        vertical-align: top;\n",
       "    }\n",
       "\n",
       "    .dataframe thead th {\n",
       "        text-align: right;\n",
       "    }\n",
       "</style>\n",
       "<table border=\"1\" class=\"dataframe\">\n",
       "  <thead>\n",
       "    <tr style=\"text-align: right;\">\n",
       "      <th></th>\n",
       "      <th>0</th>\n",
       "      <th>1</th>\n",
       "      <th>2</th>\n",
       "      <th>3</th>\n",
       "      <th>4</th>\n",
       "    </tr>\n",
       "  </thead>\n",
       "  <tbody>\n",
       "    <tr>\n",
       "      <th>0</th>\n",
       "      <td>False</td>\n",
       "      <td>False</td>\n",
       "      <td>False</td>\n",
       "      <td>False</td>\n",
       "      <td>False</td>\n",
       "    </tr>\n",
       "    <tr>\n",
       "      <th>1</th>\n",
       "      <td>False</td>\n",
       "      <td>False</td>\n",
       "      <td>False</td>\n",
       "      <td>False</td>\n",
       "      <td>False</td>\n",
       "    </tr>\n",
       "    <tr>\n",
       "      <th>2</th>\n",
       "      <td>False</td>\n",
       "      <td>True</td>\n",
       "      <td>True</td>\n",
       "      <td>True</td>\n",
       "      <td>True</td>\n",
       "    </tr>\n",
       "    <tr>\n",
       "      <th>3</th>\n",
       "      <td>True</td>\n",
       "      <td>True</td>\n",
       "      <td>True</td>\n",
       "      <td>True</td>\n",
       "      <td>True</td>\n",
       "    </tr>\n",
       "  </tbody>\n",
       "</table>\n",
       "</div>"
      ],
      "text/plain": [
       "       0      1      2      3      4\n",
       "0  False  False  False  False  False\n",
       "1  False  False  False  False  False\n",
       "2  False   True   True   True   True\n",
       "3   True   True   True   True   True"
      ]
     },
     "execution_count": 57,
     "metadata": {},
     "output_type": "execute_result"
    }
   ],
   "source": [
    "contoh2>10 # conditional statement\n",
    "# cek apakah tiap data di dataframe contoh2 memiliki nilai lebih bedar dari 10\n",
    "# output berupa data frame berisi boolean"
   ]
  },
  {
   "cell_type": "code",
   "execution_count": 58,
   "metadata": {
    "ExecuteTime": {
     "end_time": "2022-02-16T04:58:53.835704Z",
     "start_time": "2022-02-16T04:58:53.806781Z"
    }
   },
   "outputs": [
    {
     "data": {
      "text/html": [
       "<div>\n",
       "<style scoped>\n",
       "    .dataframe tbody tr th:only-of-type {\n",
       "        vertical-align: middle;\n",
       "    }\n",
       "\n",
       "    .dataframe tbody tr th {\n",
       "        vertical-align: top;\n",
       "    }\n",
       "\n",
       "    .dataframe thead th {\n",
       "        text-align: right;\n",
       "    }\n",
       "</style>\n",
       "<table border=\"1\" class=\"dataframe\">\n",
       "  <thead>\n",
       "    <tr style=\"text-align: right;\">\n",
       "      <th></th>\n",
       "      <th>0</th>\n",
       "      <th>1</th>\n",
       "      <th>2</th>\n",
       "      <th>3</th>\n",
       "      <th>4</th>\n",
       "    </tr>\n",
       "  </thead>\n",
       "  <tbody>\n",
       "    <tr>\n",
       "      <th>0</th>\n",
       "      <td>NaN</td>\n",
       "      <td>NaN</td>\n",
       "      <td>NaN</td>\n",
       "      <td>NaN</td>\n",
       "      <td>NaN</td>\n",
       "    </tr>\n",
       "    <tr>\n",
       "      <th>1</th>\n",
       "      <td>NaN</td>\n",
       "      <td>NaN</td>\n",
       "      <td>NaN</td>\n",
       "      <td>NaN</td>\n",
       "      <td>NaN</td>\n",
       "    </tr>\n",
       "    <tr>\n",
       "      <th>2</th>\n",
       "      <td>NaN</td>\n",
       "      <td>11.0</td>\n",
       "      <td>12.0</td>\n",
       "      <td>13.0</td>\n",
       "      <td>14.0</td>\n",
       "    </tr>\n",
       "    <tr>\n",
       "      <th>3</th>\n",
       "      <td>15.0</td>\n",
       "      <td>16.0</td>\n",
       "      <td>17.0</td>\n",
       "      <td>18.0</td>\n",
       "      <td>19.0</td>\n",
       "    </tr>\n",
       "  </tbody>\n",
       "</table>\n",
       "</div>"
      ],
      "text/plain": [
       "      0     1     2     3     4\n",
       "0   NaN   NaN   NaN   NaN   NaN\n",
       "1   NaN   NaN   NaN   NaN   NaN\n",
       "2   NaN  11.0  12.0  13.0  14.0\n",
       "3  15.0  16.0  17.0  18.0  19.0"
      ]
     },
     "execution_count": 58,
     "metadata": {},
     "output_type": "execute_result"
    }
   ],
   "source": [
    "contoh2[contoh2>10] # masukkan conditional statement sebagai index, maka output berupa data yang memenuhi syarat tersebut"
   ]
  },
  {
   "cell_type": "code",
   "execution_count": 59,
   "metadata": {
    "ExecuteTime": {
     "end_time": "2022-02-16T04:58:53.867617Z",
     "start_time": "2022-02-16T04:58:53.838696Z"
    }
   },
   "outputs": [
    {
     "data": {
      "text/html": [
       "<div>\n",
       "<style scoped>\n",
       "    .dataframe tbody tr th:only-of-type {\n",
       "        vertical-align: middle;\n",
       "    }\n",
       "\n",
       "    .dataframe tbody tr th {\n",
       "        vertical-align: top;\n",
       "    }\n",
       "\n",
       "    .dataframe thead th {\n",
       "        text-align: right;\n",
       "    }\n",
       "</style>\n",
       "<table border=\"1\" class=\"dataframe\">\n",
       "  <thead>\n",
       "    <tr style=\"text-align: right;\">\n",
       "      <th></th>\n",
       "      <th>name</th>\n",
       "      <th>gender</th>\n",
       "      <th>hire date</th>\n",
       "      <th>gross salary</th>\n",
       "    </tr>\n",
       "  </thead>\n",
       "  <tbody>\n",
       "    <tr>\n",
       "      <th>100111</th>\n",
       "      <td>Raven Bierman</td>\n",
       "      <td>Female</td>\n",
       "      <td>2016-12-04</td>\n",
       "      <td>7000000</td>\n",
       "    </tr>\n",
       "    <tr>\n",
       "      <th>100112</th>\n",
       "      <td>Valter Havers</td>\n",
       "      <td>Male</td>\n",
       "      <td>2018-04-13</td>\n",
       "      <td>7000000</td>\n",
       "    </tr>\n",
       "    <tr>\n",
       "      <th>200210</th>\n",
       "      <td>Marko Mendell</td>\n",
       "      <td>Male</td>\n",
       "      <td>2018-07-04</td>\n",
       "      <td>15000000</td>\n",
       "    </tr>\n",
       "    <tr>\n",
       "      <th>200211</th>\n",
       "      <td>Takahiro Momota</td>\n",
       "      <td>Male</td>\n",
       "      <td>2016-11-18</td>\n",
       "      <td>12000000</td>\n",
       "    </tr>\n",
       "    <tr>\n",
       "      <th>200312</th>\n",
       "      <td>Yahiko Tilemans</td>\n",
       "      <td>Male</td>\n",
       "      <td>2017-05-26</td>\n",
       "      <td>20000000</td>\n",
       "    </tr>\n",
       "    <tr>\n",
       "      <th>300207</th>\n",
       "      <td>Dina Rebaine</td>\n",
       "      <td>Female</td>\n",
       "      <td>2015-03-20</td>\n",
       "      <td>15000000</td>\n",
       "    </tr>\n",
       "  </tbody>\n",
       "</table>\n",
       "</div>"
      ],
      "text/plain": [
       "                   name  gender   hire date  gross salary\n",
       "100111    Raven Bierman  Female  2016-12-04       7000000\n",
       "100112    Valter Havers    Male  2018-04-13       7000000\n",
       "200210    Marko Mendell    Male  2018-07-04      15000000\n",
       "200211  Takahiro Momota    Male  2016-11-18      12000000\n",
       "200312  Yahiko Tilemans    Male  2017-05-26      20000000\n",
       "300207     Dina Rebaine  Female  2015-03-20      15000000"
      ]
     },
     "execution_count": 59,
     "metadata": {},
     "output_type": "execute_result"
    }
   ],
   "source": [
    "df"
   ]
  },
  {
   "cell_type": "code",
   "execution_count": 60,
   "metadata": {
    "ExecuteTime": {
     "end_time": "2022-02-16T04:58:53.899534Z",
     "start_time": "2022-02-16T04:58:53.871608Z"
    }
   },
   "outputs": [
    {
     "data": {
      "text/html": [
       "<div>\n",
       "<style scoped>\n",
       "    .dataframe tbody tr th:only-of-type {\n",
       "        vertical-align: middle;\n",
       "    }\n",
       "\n",
       "    .dataframe tbody tr th {\n",
       "        vertical-align: top;\n",
       "    }\n",
       "\n",
       "    .dataframe thead th {\n",
       "        text-align: right;\n",
       "    }\n",
       "</style>\n",
       "<table border=\"1\" class=\"dataframe\">\n",
       "  <thead>\n",
       "    <tr style=\"text-align: right;\">\n",
       "      <th></th>\n",
       "      <th>name</th>\n",
       "      <th>gender</th>\n",
       "      <th>hire date</th>\n",
       "      <th>gross salary</th>\n",
       "    </tr>\n",
       "  </thead>\n",
       "  <tbody>\n",
       "    <tr>\n",
       "      <th>100111</th>\n",
       "      <td>Raven Bierman</td>\n",
       "      <td>Female</td>\n",
       "      <td>2016-12-04</td>\n",
       "      <td>7000000</td>\n",
       "    </tr>\n",
       "    <tr>\n",
       "      <th>300207</th>\n",
       "      <td>Dina Rebaine</td>\n",
       "      <td>Female</td>\n",
       "      <td>2015-03-20</td>\n",
       "      <td>15000000</td>\n",
       "    </tr>\n",
       "  </tbody>\n",
       "</table>\n",
       "</div>"
      ],
      "text/plain": [
       "                 name  gender   hire date  gross salary\n",
       "100111  Raven Bierman  Female  2016-12-04       7000000\n",
       "300207   Dina Rebaine  Female  2015-03-20      15000000"
      ]
     },
     "execution_count": 60,
     "metadata": {},
     "output_type": "execute_result"
    }
   ],
   "source": [
    "# memanggil data karyawan dengan gender female\n",
    "df[df['gender']=='Female']\n",
    "# df.loc[df['gender']=='Female']"
   ]
  },
  {
   "cell_type": "code",
   "execution_count": 61,
   "metadata": {
    "ExecuteTime": {
     "end_time": "2022-02-16T04:58:53.916491Z",
     "start_time": "2022-02-16T04:58:53.902524Z"
    }
   },
   "outputs": [
    {
     "data": {
      "text/plain": [
       "100111    Raven Bierman\n",
       "300207     Dina Rebaine\n",
       "Name: name, dtype: object"
      ]
     },
     "execution_count": 61,
     "metadata": {},
     "output_type": "execute_result"
    }
   ],
   "source": [
    "# menampilkan *nama* karyawan dengan gender Female\n",
    "df[df['gender']=='Female']['name']\n",
    "# df.loc[df['gender']=='Female','name']"
   ]
  },
  {
   "cell_type": "code",
   "execution_count": 62,
   "metadata": {
    "ExecuteTime": {
     "end_time": "2022-02-16T04:58:53.947404Z",
     "start_time": "2022-02-16T04:58:53.919483Z"
    }
   },
   "outputs": [
    {
     "data": {
      "text/html": [
       "<div>\n",
       "<style scoped>\n",
       "    .dataframe tbody tr th:only-of-type {\n",
       "        vertical-align: middle;\n",
       "    }\n",
       "\n",
       "    .dataframe tbody tr th {\n",
       "        vertical-align: top;\n",
       "    }\n",
       "\n",
       "    .dataframe thead th {\n",
       "        text-align: right;\n",
       "    }\n",
       "</style>\n",
       "<table border=\"1\" class=\"dataframe\">\n",
       "  <thead>\n",
       "    <tr style=\"text-align: right;\">\n",
       "      <th></th>\n",
       "      <th>name</th>\n",
       "      <th>gross salary</th>\n",
       "    </tr>\n",
       "  </thead>\n",
       "  <tbody>\n",
       "    <tr>\n",
       "      <th>100111</th>\n",
       "      <td>Raven Bierman</td>\n",
       "      <td>7000000</td>\n",
       "    </tr>\n",
       "    <tr>\n",
       "      <th>300207</th>\n",
       "      <td>Dina Rebaine</td>\n",
       "      <td>15000000</td>\n",
       "    </tr>\n",
       "  </tbody>\n",
       "</table>\n",
       "</div>"
      ],
      "text/plain": [
       "                 name  gross salary\n",
       "100111  Raven Bierman       7000000\n",
       "300207   Dina Rebaine      15000000"
      ]
     },
     "execution_count": 62,
     "metadata": {},
     "output_type": "execute_result"
    }
   ],
   "source": [
    "# menampilkan *nama dan gaji* karyawan dengan gender Female\n",
    "df[df['gender']=='Female'][['name','gross salary']]\n",
    "# df.loc[df['gender']=='Female',['name','gross salary']]"
   ]
  },
  {
   "cell_type": "code",
   "execution_count": 63,
   "metadata": {
    "ExecuteTime": {
     "end_time": "2022-02-16T04:58:53.978322Z",
     "start_time": "2022-02-16T04:58:53.951394Z"
    }
   },
   "outputs": [
    {
     "data": {
      "text/plain": [
       "300207    Dina Rebaine\n",
       "Name: name, dtype: object"
      ]
     },
     "execution_count": 63,
     "metadata": {},
     "output_type": "execute_result"
    }
   ],
   "source": [
    "df[(df['gender']=='Female') & (df['gross salary']>10000000)]['name']\n",
    "# menampilkan nama karyawan yang gendernya female DAN gajinya di atas 10juta\n",
    "# kalau mneggunakan lebih dari 1 kondisi, setiap conditional statement perlu dimasukkan ke dalam (), \n",
    "# dipisahkan dengan operator & (and) atau | (or)"
   ]
  },
  {
   "cell_type": "code",
   "execution_count": null,
   "metadata": {},
   "outputs": [],
   "source": [
    "## latihan"
   ]
  },
  {
   "cell_type": "code",
   "execution_count": 64,
   "metadata": {
    "ExecuteTime": {
     "end_time": "2022-02-16T04:58:53.993282Z",
     "start_time": "2022-02-16T04:58:53.981314Z"
    }
   },
   "outputs": [
    {
     "data": {
      "text/html": [
       "<div>\n",
       "<style scoped>\n",
       "    .dataframe tbody tr th:only-of-type {\n",
       "        vertical-align: middle;\n",
       "    }\n",
       "\n",
       "    .dataframe tbody tr th {\n",
       "        vertical-align: top;\n",
       "    }\n",
       "\n",
       "    .dataframe thead th {\n",
       "        text-align: right;\n",
       "    }\n",
       "</style>\n",
       "<table border=\"1\" class=\"dataframe\">\n",
       "  <thead>\n",
       "    <tr style=\"text-align: right;\">\n",
       "      <th></th>\n",
       "      <th>name</th>\n",
       "      <th>gender</th>\n",
       "      <th>hire date</th>\n",
       "      <th>gross salary</th>\n",
       "    </tr>\n",
       "  </thead>\n",
       "  <tbody>\n",
       "    <tr>\n",
       "      <th>100111</th>\n",
       "      <td>Raven Bierman</td>\n",
       "      <td>Female</td>\n",
       "      <td>2016-12-04</td>\n",
       "      <td>7000000</td>\n",
       "    </tr>\n",
       "    <tr>\n",
       "      <th>100112</th>\n",
       "      <td>Valter Havers</td>\n",
       "      <td>Male</td>\n",
       "      <td>2018-04-13</td>\n",
       "      <td>7000000</td>\n",
       "    </tr>\n",
       "    <tr>\n",
       "      <th>200210</th>\n",
       "      <td>Marko Mendell</td>\n",
       "      <td>Male</td>\n",
       "      <td>2018-07-04</td>\n",
       "      <td>15000000</td>\n",
       "    </tr>\n",
       "    <tr>\n",
       "      <th>200211</th>\n",
       "      <td>Takahiro Momota</td>\n",
       "      <td>Male</td>\n",
       "      <td>2016-11-18</td>\n",
       "      <td>12000000</td>\n",
       "    </tr>\n",
       "    <tr>\n",
       "      <th>200312</th>\n",
       "      <td>Yahiko Tilemans</td>\n",
       "      <td>Male</td>\n",
       "      <td>2017-05-26</td>\n",
       "      <td>20000000</td>\n",
       "    </tr>\n",
       "    <tr>\n",
       "      <th>300207</th>\n",
       "      <td>Dina Rebaine</td>\n",
       "      <td>Female</td>\n",
       "      <td>2015-03-20</td>\n",
       "      <td>15000000</td>\n",
       "    </tr>\n",
       "  </tbody>\n",
       "</table>\n",
       "</div>"
      ],
      "text/plain": [
       "                   name  gender   hire date  gross salary\n",
       "100111    Raven Bierman  Female  2016-12-04       7000000\n",
       "100112    Valter Havers    Male  2018-04-13       7000000\n",
       "200210    Marko Mendell    Male  2018-07-04      15000000\n",
       "200211  Takahiro Momota    Male  2016-11-18      12000000\n",
       "200312  Yahiko Tilemans    Male  2017-05-26      20000000\n",
       "300207     Dina Rebaine  Female  2015-03-20      15000000"
      ]
     },
     "execution_count": 64,
     "metadata": {},
     "output_type": "execute_result"
    }
   ],
   "source": [
    "df"
   ]
  },
  {
   "cell_type": "code",
   "execution_count": 65,
   "metadata": {
    "ExecuteTime": {
     "end_time": "2022-02-16T04:58:54.025196Z",
     "start_time": "2022-02-16T04:58:53.997273Z"
    }
   },
   "outputs": [
    {
     "data": {
      "text/html": [
       "<div>\n",
       "<style scoped>\n",
       "    .dataframe tbody tr th:only-of-type {\n",
       "        vertical-align: middle;\n",
       "    }\n",
       "\n",
       "    .dataframe tbody tr th {\n",
       "        vertical-align: top;\n",
       "    }\n",
       "\n",
       "    .dataframe thead th {\n",
       "        text-align: right;\n",
       "    }\n",
       "</style>\n",
       "<table border=\"1\" class=\"dataframe\">\n",
       "  <thead>\n",
       "    <tr style=\"text-align: right;\">\n",
       "      <th></th>\n",
       "      <th>name</th>\n",
       "      <th>hire date</th>\n",
       "    </tr>\n",
       "  </thead>\n",
       "  <tbody>\n",
       "    <tr>\n",
       "      <th>100111</th>\n",
       "      <td>Raven Bierman</td>\n",
       "      <td>2016-12-04</td>\n",
       "    </tr>\n",
       "    <tr>\n",
       "      <th>100112</th>\n",
       "      <td>Valter Havers</td>\n",
       "      <td>2018-04-13</td>\n",
       "    </tr>\n",
       "    <tr>\n",
       "      <th>200210</th>\n",
       "      <td>Marko Mendell</td>\n",
       "      <td>2018-07-04</td>\n",
       "    </tr>\n",
       "    <tr>\n",
       "      <th>200211</th>\n",
       "      <td>Takahiro Momota</td>\n",
       "      <td>2016-11-18</td>\n",
       "    </tr>\n",
       "    <tr>\n",
       "      <th>200312</th>\n",
       "      <td>Yahiko Tilemans</td>\n",
       "      <td>2017-05-26</td>\n",
       "    </tr>\n",
       "    <tr>\n",
       "      <th>300207</th>\n",
       "      <td>Dina Rebaine</td>\n",
       "      <td>2015-03-20</td>\n",
       "    </tr>\n",
       "  </tbody>\n",
       "</table>\n",
       "</div>"
      ],
      "text/plain": [
       "                   name   hire date\n",
       "100111    Raven Bierman  2016-12-04\n",
       "100112    Valter Havers  2018-04-13\n",
       "200210    Marko Mendell  2018-07-04\n",
       "200211  Takahiro Momota  2016-11-18\n",
       "200312  Yahiko Tilemans  2017-05-26\n",
       "300207     Dina Rebaine  2015-03-20"
      ]
     },
     "execution_count": 65,
     "metadata": {},
     "output_type": "execute_result"
    }
   ],
   "source": [
    "# tampilkan kolom name dan hire date\n",
    "df[['name','hire date']]\n",
    "# df.iloc[:,[0,2]]"
   ]
  },
  {
   "cell_type": "code",
   "execution_count": 66,
   "metadata": {
    "ExecuteTime": {
     "end_time": "2022-02-16T04:58:54.041155Z",
     "start_time": "2022-02-16T04:58:54.030185Z"
    }
   },
   "outputs": [
    {
     "data": {
      "text/plain": [
       "'Yahiko Tilemans'"
      ]
     },
     "execution_count": 66,
     "metadata": {},
     "output_type": "execute_result"
    }
   ],
   "source": [
    "# tampilkan nama karyawan dengan index nomor 200312\n",
    "df.loc[200312,'name']\n",
    "# df['name'][200312]"
   ]
  },
  {
   "cell_type": "code",
   "execution_count": 67,
   "metadata": {
    "ExecuteTime": {
     "end_time": "2022-02-16T04:58:54.071077Z",
     "start_time": "2022-02-16T04:58:54.053122Z"
    }
   },
   "outputs": [
    {
     "data": {
      "text/html": [
       "<div>\n",
       "<style scoped>\n",
       "    .dataframe tbody tr th:only-of-type {\n",
       "        vertical-align: middle;\n",
       "    }\n",
       "\n",
       "    .dataframe tbody tr th {\n",
       "        vertical-align: top;\n",
       "    }\n",
       "\n",
       "    .dataframe thead th {\n",
       "        text-align: right;\n",
       "    }\n",
       "</style>\n",
       "<table border=\"1\" class=\"dataframe\">\n",
       "  <thead>\n",
       "    <tr style=\"text-align: right;\">\n",
       "      <th></th>\n",
       "      <th>name</th>\n",
       "      <th>gender</th>\n",
       "      <th>hire date</th>\n",
       "      <th>gross salary</th>\n",
       "    </tr>\n",
       "  </thead>\n",
       "  <tbody>\n",
       "    <tr>\n",
       "      <th>200210</th>\n",
       "      <td>Marko Mendell</td>\n",
       "      <td>Male</td>\n",
       "      <td>2018-07-04</td>\n",
       "      <td>15000000</td>\n",
       "    </tr>\n",
       "  </tbody>\n",
       "</table>\n",
       "</div>"
      ],
      "text/plain": [
       "                 name gender   hire date  gross salary\n",
       "200210  Marko Mendell   Male  2018-07-04      15000000"
      ]
     },
     "execution_count": 67,
     "metadata": {},
     "output_type": "execute_result"
    }
   ],
   "source": [
    "# tampilkan data karyawan yang bernama Marko Mendell\n",
    "df[df['name']=='Marko Mendell']"
   ]
  },
  {
   "cell_type": "code",
   "execution_count": 68,
   "metadata": {
    "ExecuteTime": {
     "end_time": "2022-02-16T04:58:54.086035Z",
     "start_time": "2022-02-16T04:58:54.074067Z"
    }
   },
   "outputs": [
    {
     "data": {
      "text/html": [
       "<div>\n",
       "<style scoped>\n",
       "    .dataframe tbody tr th:only-of-type {\n",
       "        vertical-align: middle;\n",
       "    }\n",
       "\n",
       "    .dataframe tbody tr th {\n",
       "        vertical-align: top;\n",
       "    }\n",
       "\n",
       "    .dataframe thead th {\n",
       "        text-align: right;\n",
       "    }\n",
       "</style>\n",
       "<table border=\"1\" class=\"dataframe\">\n",
       "  <thead>\n",
       "    <tr style=\"text-align: right;\">\n",
       "      <th></th>\n",
       "      <th>name</th>\n",
       "      <th>gender</th>\n",
       "    </tr>\n",
       "  </thead>\n",
       "  <tbody>\n",
       "    <tr>\n",
       "      <th>200210</th>\n",
       "      <td>Marko Mendell</td>\n",
       "      <td>Male</td>\n",
       "    </tr>\n",
       "    <tr>\n",
       "      <th>200211</th>\n",
       "      <td>Takahiro Momota</td>\n",
       "      <td>Male</td>\n",
       "    </tr>\n",
       "    <tr>\n",
       "      <th>200312</th>\n",
       "      <td>Yahiko Tilemans</td>\n",
       "      <td>Male</td>\n",
       "    </tr>\n",
       "    <tr>\n",
       "      <th>300207</th>\n",
       "      <td>Dina Rebaine</td>\n",
       "      <td>Female</td>\n",
       "    </tr>\n",
       "  </tbody>\n",
       "</table>\n",
       "</div>"
      ],
      "text/plain": [
       "                   name  gender\n",
       "200210    Marko Mendell    Male\n",
       "200211  Takahiro Momota    Male\n",
       "200312  Yahiko Tilemans    Male\n",
       "300207     Dina Rebaine  Female"
      ]
     },
     "execution_count": 68,
     "metadata": {},
     "output_type": "execute_result"
    }
   ],
   "source": [
    "# tampilkan nama dan gender dari karyawan dengan gaji di atas 10 juta\n",
    "df[df['gross salary']>10000000][['name','gender']]"
   ]
  },
  {
   "cell_type": "code",
   "execution_count": 69,
   "metadata": {
    "ExecuteTime": {
     "end_time": "2022-02-16T04:58:54.101992Z",
     "start_time": "2022-02-16T04:58:54.089030Z"
    }
   },
   "outputs": [
    {
     "data": {
      "text/plain": [
       "100112      Valter Havers\n",
       "200210      Marko Mendell\n",
       "200211    Takahiro Momota\n",
       "200312    Yahiko Tilemans\n",
       "Name: name, dtype: object"
      ]
     },
     "execution_count": 69,
     "metadata": {},
     "output_type": "execute_result"
    }
   ],
   "source": [
    "# tampilkan nama karyawan yang gendernya Male\n",
    "df[df['gender']=='Male']['name']"
   ]
  },
  {
   "cell_type": "code",
   "execution_count": 70,
   "metadata": {
    "ExecuteTime": {
     "end_time": "2022-02-16T04:58:54.132909Z",
     "start_time": "2022-02-16T04:58:54.104985Z"
    }
   },
   "outputs": [
    {
     "data": {
      "text/html": [
       "<div>\n",
       "<style scoped>\n",
       "    .dataframe tbody tr th:only-of-type {\n",
       "        vertical-align: middle;\n",
       "    }\n",
       "\n",
       "    .dataframe tbody tr th {\n",
       "        vertical-align: top;\n",
       "    }\n",
       "\n",
       "    .dataframe thead th {\n",
       "        text-align: right;\n",
       "    }\n",
       "</style>\n",
       "<table border=\"1\" class=\"dataframe\">\n",
       "  <thead>\n",
       "    <tr style=\"text-align: right;\">\n",
       "      <th></th>\n",
       "      <th>name</th>\n",
       "      <th>gender</th>\n",
       "      <th>hire date</th>\n",
       "      <th>gross salary</th>\n",
       "    </tr>\n",
       "  </thead>\n",
       "  <tbody>\n",
       "    <tr>\n",
       "      <th>100111</th>\n",
       "      <td>Raven Bierman</td>\n",
       "      <td>Female</td>\n",
       "      <td>2016-12-04</td>\n",
       "      <td>7000000</td>\n",
       "    </tr>\n",
       "    <tr>\n",
       "      <th>100112</th>\n",
       "      <td>Valter Havers</td>\n",
       "      <td>Male</td>\n",
       "      <td>2018-04-13</td>\n",
       "      <td>7000000</td>\n",
       "    </tr>\n",
       "    <tr>\n",
       "      <th>200210</th>\n",
       "      <td>Marko Mendell</td>\n",
       "      <td>Male</td>\n",
       "      <td>2018-07-04</td>\n",
       "      <td>15000000</td>\n",
       "    </tr>\n",
       "    <tr>\n",
       "      <th>200211</th>\n",
       "      <td>Takahiro Momota</td>\n",
       "      <td>Male</td>\n",
       "      <td>2016-11-18</td>\n",
       "      <td>12000000</td>\n",
       "    </tr>\n",
       "    <tr>\n",
       "      <th>200312</th>\n",
       "      <td>Yahiko Tilemans</td>\n",
       "      <td>Male</td>\n",
       "      <td>2017-05-26</td>\n",
       "      <td>20000000</td>\n",
       "    </tr>\n",
       "    <tr>\n",
       "      <th>300207</th>\n",
       "      <td>Dina Rebaine</td>\n",
       "      <td>Female</td>\n",
       "      <td>2015-03-20</td>\n",
       "      <td>15000000</td>\n",
       "    </tr>\n",
       "  </tbody>\n",
       "</table>\n",
       "</div>"
      ],
      "text/plain": [
       "                   name  gender   hire date  gross salary\n",
       "100111    Raven Bierman  Female  2016-12-04       7000000\n",
       "100112    Valter Havers    Male  2018-04-13       7000000\n",
       "200210    Marko Mendell    Male  2018-07-04      15000000\n",
       "200211  Takahiro Momota    Male  2016-11-18      12000000\n",
       "200312  Yahiko Tilemans    Male  2017-05-26      20000000\n",
       "300207     Dina Rebaine  Female  2015-03-20      15000000"
      ]
     },
     "execution_count": 70,
     "metadata": {},
     "output_type": "execute_result"
    }
   ],
   "source": [
    "df"
   ]
  },
  {
   "cell_type": "code",
   "execution_count": 71,
   "metadata": {
    "ExecuteTime": {
     "end_time": "2022-02-16T04:58:54.148866Z",
     "start_time": "2022-02-16T04:58:54.135901Z"
    }
   },
   "outputs": [
    {
     "data": {
      "text/plain": [
       "'2016-11-18'"
      ]
     },
     "execution_count": 71,
     "metadata": {},
     "output_type": "execute_result"
    }
   ],
   "source": [
    "#tampilkan data pada posisi index 3 dan posisi kolom 2\n",
    "df.iloc[3,2]"
   ]
  },
  {
   "cell_type": "code",
   "execution_count": 72,
   "metadata": {
    "ExecuteTime": {
     "end_time": "2022-02-16T04:58:54.164829Z",
     "start_time": "2022-02-16T04:58:54.153854Z"
    }
   },
   "outputs": [
    {
     "data": {
      "text/plain": [
       "100111    Raven Bierman\n",
       "100112    Valter Havers\n",
       "Name: name, dtype: object"
      ]
     },
     "execution_count": 72,
     "metadata": {},
     "output_type": "execute_result"
    }
   ],
   "source": [
    "#  tampilkan nama karyawan dengan gaji 7000000\n",
    "df[df['gross salary']==7000000]['name']"
   ]
  },
  {
   "cell_type": "code",
   "execution_count": 73,
   "metadata": {
    "ExecuteTime": {
     "end_time": "2022-02-16T04:58:54.180781Z",
     "start_time": "2022-02-16T04:58:54.167816Z"
    }
   },
   "outputs": [
    {
     "data": {
      "text/plain": [
       "100112    Valter Havers\n",
       "Name: name, dtype: object"
      ]
     },
     "execution_count": 73,
     "metadata": {},
     "output_type": "execute_result"
    }
   ],
   "source": [
    "# tampilkan nama karyawan dengan gender male dan gaji di bawah 10000000\n",
    "df[(df['gender']=='Male')&(df['gross salary']<10000000)]['name']"
   ]
  },
  {
   "cell_type": "code",
   "execution_count": 74,
   "metadata": {
    "ExecuteTime": {
     "end_time": "2022-02-16T04:58:54.212696Z",
     "start_time": "2022-02-16T04:58:54.183774Z"
    }
   },
   "outputs": [
    {
     "data": {
      "text/html": [
       "<div>\n",
       "<style scoped>\n",
       "    .dataframe tbody tr th:only-of-type {\n",
       "        vertical-align: middle;\n",
       "    }\n",
       "\n",
       "    .dataframe tbody tr th {\n",
       "        vertical-align: top;\n",
       "    }\n",
       "\n",
       "    .dataframe thead th {\n",
       "        text-align: right;\n",
       "    }\n",
       "</style>\n",
       "<table border=\"1\" class=\"dataframe\">\n",
       "  <thead>\n",
       "    <tr style=\"text-align: right;\">\n",
       "      <th></th>\n",
       "      <th>name</th>\n",
       "      <th>gender</th>\n",
       "      <th>hire date</th>\n",
       "      <th>gross salary</th>\n",
       "    </tr>\n",
       "  </thead>\n",
       "  <tbody>\n",
       "    <tr>\n",
       "      <th>100111</th>\n",
       "      <td>Raven Bierman</td>\n",
       "      <td>Female</td>\n",
       "      <td>2016-12-04</td>\n",
       "      <td>7000000</td>\n",
       "    </tr>\n",
       "    <tr>\n",
       "      <th>100112</th>\n",
       "      <td>Valter Havers</td>\n",
       "      <td>Male</td>\n",
       "      <td>2018-04-13</td>\n",
       "      <td>7000000</td>\n",
       "    </tr>\n",
       "    <tr>\n",
       "      <th>200210</th>\n",
       "      <td>Marko Mendell</td>\n",
       "      <td>Male</td>\n",
       "      <td>2018-07-04</td>\n",
       "      <td>15000000</td>\n",
       "    </tr>\n",
       "    <tr>\n",
       "      <th>200211</th>\n",
       "      <td>Takahiro Momota</td>\n",
       "      <td>Male</td>\n",
       "      <td>2016-11-18</td>\n",
       "      <td>12000000</td>\n",
       "    </tr>\n",
       "    <tr>\n",
       "      <th>200312</th>\n",
       "      <td>Yahiko Tilemans</td>\n",
       "      <td>Male</td>\n",
       "      <td>2017-05-26</td>\n",
       "      <td>20000000</td>\n",
       "    </tr>\n",
       "    <tr>\n",
       "      <th>300207</th>\n",
       "      <td>Dina Rebaine</td>\n",
       "      <td>Female</td>\n",
       "      <td>2015-03-20</td>\n",
       "      <td>15000000</td>\n",
       "    </tr>\n",
       "  </tbody>\n",
       "</table>\n",
       "</div>"
      ],
      "text/plain": [
       "                   name  gender   hire date  gross salary\n",
       "100111    Raven Bierman  Female  2016-12-04       7000000\n",
       "100112    Valter Havers    Male  2018-04-13       7000000\n",
       "200210    Marko Mendell    Male  2018-07-04      15000000\n",
       "200211  Takahiro Momota    Male  2016-11-18      12000000\n",
       "200312  Yahiko Tilemans    Male  2017-05-26      20000000\n",
       "300207     Dina Rebaine  Female  2015-03-20      15000000"
      ]
     },
     "execution_count": 74,
     "metadata": {},
     "output_type": "execute_result"
    }
   ],
   "source": [
    "df"
   ]
  },
  {
   "cell_type": "code",
   "execution_count": 75,
   "metadata": {
    "ExecuteTime": {
     "end_time": "2022-02-16T04:58:54.228656Z",
     "start_time": "2022-02-16T04:58:54.215688Z"
    }
   },
   "outputs": [
    {
     "data": {
      "text/plain": [
       "100112    Valter Havers\n",
       "Name: name, dtype: object"
      ]
     },
     "execution_count": 75,
     "metadata": {},
     "output_type": "execute_result"
    }
   ],
   "source": [
    "df.loc[(df['gender']=='Male')&(df['gross salary']<10000000),'name']"
   ]
  },
  {
   "cell_type": "code",
   "execution_count": null,
   "metadata": {
    "ExecuteTime": {
     "end_time": "2022-02-16T04:54:20.075289Z",
     "start_time": "2022-02-16T04:54:20.065806Z"
    }
   },
   "outputs": [],
   "source": []
  },
  {
   "cell_type": "code",
   "execution_count": null,
   "metadata": {},
   "outputs": [],
   "source": []
  }
 ],
 "metadata": {
  "hide_input": false,
  "kernelspec": {
   "display_name": "Python 3",
   "language": "python",
   "name": "python3"
  },
  "language_info": {
   "codemirror_mode": {
    "name": "ipython",
    "version": 3
   },
   "file_extension": ".py",
   "mimetype": "text/x-python",
   "name": "python",
   "nbconvert_exporter": "python",
   "pygments_lexer": "ipython3",
   "version": "3.8.3"
  },
  "toc": {
   "base_numbering": 1,
   "nav_menu": {},
   "number_sections": true,
   "sideBar": true,
   "skip_h1_title": false,
   "title_cell": "Table of Contents",
   "title_sidebar": "Contents",
   "toc_cell": false,
   "toc_position": {},
   "toc_section_display": true,
   "toc_window_display": false
  }
 },
 "nbformat": 4,
 "nbformat_minor": 4
}
