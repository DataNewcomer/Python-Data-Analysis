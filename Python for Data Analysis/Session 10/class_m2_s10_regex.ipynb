{
 "cells": [
  {
   "cell_type": "markdown",
   "metadata": {},
   "source": [
    "# **Regular Expression (Regex)**\n",
    "\n",
    "- Regex digunakan untuk mengekstrak sub-text dari sebuah dokumen yang besar\n",
    "- Segala yang berhubungan dengan pencocokan dan mencorai pola di dalam teks"
   ]
  },
  {
   "cell_type": "code",
   "execution_count": 13,
   "metadata": {},
   "outputs": [],
   "source": [
    "import re"
   ]
  },
  {
   "cell_type": "markdown",
   "metadata": {},
   "source": [
    "### Character Set\n",
    "\n",
    "kurung siku mengindikasikan karakter yang diinginkan \n",
    "\n",
    "[ ] menyediakan slot untuk 1 karakter"
   ]
  },
  {
   "cell_type": "code",
   "execution_count": 14,
   "metadata": {},
   "outputs": [
    {
     "data": {
      "text/plain": [
       "['gray', 'grey']"
      ]
     },
     "execution_count": 14,
     "metadata": {},
     "output_type": "execute_result"
    }
   ],
   "source": [
    "words = 'gray grey griy gruy groy'\n",
    "\n",
    "re.findall('gr[ae]y', words)"
   ]
  },
  {
   "cell_type": "code",
   "execution_count": 15,
   "metadata": {},
   "outputs": [
    {
     "data": {
      "text/plain": [
       "['gray', 'grey']"
      ]
     },
     "execution_count": 15,
     "metadata": {},
     "output_type": "execute_result"
    }
   ],
   "source": [
    "words = 'gray grey griy gruy groy'\n",
    "pattern = 'gr[ae]y'\n",
    "\n",
    "re.findall(pattern, words)"
   ]
  },
  {
   "cell_type": "code",
   "execution_count": 16,
   "metadata": {},
   "outputs": [
    {
     "data": {
      "text/plain": [
       "['gray', 'grey']"
      ]
     },
     "execution_count": 16,
     "metadata": {},
     "output_type": "execute_result"
    }
   ],
   "source": [
    "words = 'gray grey griy gruy groy grAy graay graey'\n",
    "pattern = 'gr[ae]y'\n",
    "\n",
    "re.findall(pattern, words)\n",
    "\n",
    "# grAy  tidak termasuk, karena A nya kapital\n",
    "# graay tidak termasuk karena jumlah karakternya ada 5, harusnya 4\n",
    "# graey tidak termasuk karena jumlah karakternya ada 5, harusnya 4"
   ]
  },
  {
   "cell_type": "markdown",
   "metadata": {},
   "source": [
    "### Character Range\n",
    "\n",
    "- Character Set, kita menentukan karakternya 1 per 1\n",
    "- Character Range, kita menentukan karakternya berupa range \n",
    "- penulisan ...-..."
   ]
  },
  {
   "cell_type": "code",
   "execution_count": 17,
   "metadata": {},
   "outputs": [
    {
     "data": {
      "text/plain": [
       "['gray', 'grey', 'griy', 'gruy', 'groy']"
      ]
     },
     "execution_count": 17,
     "metadata": {},
     "output_type": "execute_result"
    }
   ],
   "source": [
    "# menampilkan kata yg 4 huruf, yaitu g, r, kemudian diikuti huruf apapun lowercase, diikuti y\n",
    "words = 'gray grey griy gruy groy grAy graay graey'\n",
    "pattern = 'gr[a-z]y'\n",
    "\n",
    "re.findall(pattern, words)"
   ]
  },
  {
   "cell_type": "code",
   "execution_count": 18,
   "metadata": {},
   "outputs": [
    {
     "data": {
      "text/plain": [
       "['gray', 'grey', 'griy', 'gruy', 'groy', 'grAy']"
      ]
     },
     "execution_count": 18,
     "metadata": {},
     "output_type": "execute_result"
    }
   ],
   "source": [
    "# menampilkan kata yg 4 huruf, yaitu g, r, kemudian diikuti huruf apapun lowercase atau uppercase, diikuti y\n",
    "\n",
    "words = 'gray grey griy gruy groy grAy graay graey'\n",
    "pattern = 'gr[a-zA-Z]y'\n",
    "\n",
    "re.findall(pattern, words)"
   ]
  },
  {
   "cell_type": "code",
   "execution_count": 21,
   "metadata": {},
   "outputs": [
    {
     "data": {
      "text/plain": [
       "['XRA 000', '1AA 1AA']"
      ]
     },
     "execution_count": 21,
     "metadata": {},
     "output_type": "execute_result"
    }
   ],
   "source": [
    "words = 'XRA 000, 1AA 1AA'\n",
    "pattern = '[A-Z0-9][A-Z][A-Z] [0-9][A-Z0-9][A-Z0-9]'\n",
    "\n",
    "re.findall(pattern, words)\n",
    "\n",
    "# 1. Huruf kapital atau angka\n",
    "# 2. Huruf kapital\n",
    "# 3. Huruf kapital\n",
    "# 4. Spasi\n",
    "# 5. Angka\n",
    "# 6. Huruf kapital atau angka\n",
    "# 7. Huruf kapital atau angka"
   ]
  },
  {
   "cell_type": "code",
   "execution_count": 22,
   "metadata": {},
   "outputs": [
    {
     "data": {
      "text/plain": [
       "['XRA 000', '1AA 1AA', '4FG 5Y5']"
      ]
     },
     "execution_count": 22,
     "metadata": {},
     "output_type": "execute_result"
    }
   ],
   "source": [
    "words = 'XRA 000, 1AA 1AA, xyz 000, 4FG 5Y5'\n",
    "pattern = '[A-Z0-9][A-Z][A-Z] [0-9][A-Z0-9][A-Z0-9]'\n",
    "\n",
    "re.findall(pattern, words)"
   ]
  },
  {
   "cell_type": "markdown",
   "metadata": {},
   "source": [
    "### Quantified Repetition\n",
    "\n",
    "Digunakan kalau kita ingin menentukan jumlah pengulangan yang kita inginkan\n",
    "penulisanny {m,n}\n",
    "\n",
    "- m --> minimum (wajib diisi)\n",
    "- n --> maximum"
   ]
  },
  {
   "cell_type": "code",
   "execution_count": 23,
   "metadata": {},
   "outputs": [
    {
     "data": {
      "text/plain": [
       "['XRA 000', '1AA 1AA']"
      ]
     },
     "execution_count": 23,
     "metadata": {},
     "output_type": "execute_result"
    }
   ],
   "source": [
    "words = 'XRA 000, 1AA 1AA'\n",
    "pattern = '[A-Z0-9][A-Z]{2} [0-9][A-Z0-9]{2}'\n",
    "\n",
    "re.findall(pattern, words)"
   ]
  },
  {
   "cell_type": "code",
   "execution_count": 27,
   "metadata": {},
   "outputs": [
    {
     "data": {
      "text/plain": [
       "['XRA 000', '1AA 1AA', '7SSSS 123', 'SSSSS 123']"
      ]
     },
     "execution_count": 27,
     "metadata": {},
     "output_type": "execute_result"
    }
   ],
   "source": [
    "words = 'XRA 000, 1AA 1AA, 7SSSS 123, 7SSSSS 123'\n",
    "pattern = '[A-Z0-9][A-Z]{2,4} [0-9][A-Z0-9]{2}'\n",
    "\n",
    "re.findall(pattern, words)"
   ]
  },
  {
   "cell_type": "markdown",
   "metadata": {},
   "source": [
    "* * *\n",
    "**Metacharacter**\n",
    "\n",
    "* <font color=\"red\">[0-9]</font> Matches a single digit\n",
    "* <font color=\"red\">[a-z0-9]</font> Matches a single character that must be a lower case letter or a digit.\n",
    "* <font color=\"red\">[A-Za-z]</font> Matches a single character that much be a upper/lower case letter \n",
    "* <font color=\"red\">\\d</font> Matches any decimal digit; equivalent to the set [0-9].\n",
    "* <font color=\"red\">\\D</font> Matches characters that are not digits, which is equivalent to [^0-9] or [^\\d].\n",
    "* <font color=\"red\">\\w</font> Matches any alphanumeric character, which is equivalent to [a-zA-Z0-9_].\n",
    "* <font color=\"red\">\\W</font> Matches any non-alphanumeric character; which is equivalent to [^a-zA-Z0-9_] or [^\\w].\n",
    "* <font color=\"red\">\\s</font> Matches any whitespace character; which is equivalent to [\\t\\n\\r\\f\\v], where \\t indicates taps, \\n  line feeds, \\r carriage returns, \\f form feeds and \\v vertical tabs.\n",
    "* <font color=\"red\">\\S:</font> Matches any non-whitespace character; which is equivalent to  [^ \\t\\n\\r\\f\\v].\n",
    "* <font color=\"red\">ˆ</font> Matches the start of the line.\n",
    "* <font color=\"red\">$</font> Matches the end of the line.\n",
    "\n",
    "\n",
    "More information can be found here :\n",
    "https://docs.python.org/2/library/re.html\n",
    "\n",
    "---"
   ]
  },
  {
   "cell_type": "code",
   "execution_count": 30,
   "metadata": {},
   "outputs": [
    {
     "data": {
      "text/plain": [
       "['XRA 000', '1AA 1AA']"
      ]
     },
     "execution_count": 30,
     "metadata": {},
     "output_type": "execute_result"
    }
   ],
   "source": [
    "words = 'XRA 000, 1AA 1AA'\n",
    "pattern = '\\w[A-Z]{2} \\d\\w{2}'\n",
    "\n",
    "re.findall(pattern, words)"
   ]
  },
  {
   "cell_type": "code",
   "execution_count": null,
   "metadata": {},
   "outputs": [],
   "source": []
  },
  {
   "cell_type": "markdown",
   "metadata": {},
   "source": [
    "**Repetition Metacharacter**\n",
    "\n",
    "- \\* Mencocokkan 0 kali atau lebih pengulangan\n",
    "- \\+ Mencocokkan 1 kali atau lebih pengulangan\n",
    "- \\? Mencocokkan 0 atau 1 kali pengulangan "
   ]
  },
  {
   "cell_type": "code",
   "execution_count": 31,
   "metadata": {},
   "outputs": [
    {
     "data": {
      "text/plain": [
       "['XRA', '000', '1AA', '1AA']"
      ]
     },
     "execution_count": 31,
     "metadata": {},
     "output_type": "execute_result"
    }
   ],
   "source": [
    "# Menampilkan huruf kecil/huruf besar/angka/underscore yang berulang minimal 1 kali\n",
    "words = 'XRA 000, 1AA 1AA'\n",
    "pattern = '\\w+'\n",
    "\n",
    "re.findall(pattern, words)"
   ]
  },
  {
   "cell_type": "code",
   "execution_count": 32,
   "metadata": {},
   "outputs": [
    {
     "data": {
      "text/plain": [
       "['X', 'R', 'A', '0', '0', '0', '1', 'A', 'A', '1', 'A', 'A']"
      ]
     },
     "execution_count": 32,
     "metadata": {},
     "output_type": "execute_result"
    }
   ],
   "source": [
    "# Menampilkan huruf kecil/huruf besar/angka/underscore \n",
    "\n",
    "words = 'XRA 000, 1AA 1AA'\n",
    "pattern = '\\w'\n",
    "\n",
    "re.findall(pattern, words)"
   ]
  },
  {
   "cell_type": "code",
   "execution_count": 35,
   "metadata": {},
   "outputs": [
    {
     "data": {
      "text/plain": [
       "['X', 'R', 'A', '0', '0', '0', '1', 'A', 'A', '1', 'A', 'A']"
      ]
     },
     "execution_count": 35,
     "metadata": {},
     "output_type": "execute_result"
    }
   ],
   "source": [
    "# Menampilkan huruf kecil/huruf besar/angka/underscore \n",
    "\n",
    "words = 'XRA 000, 1AA 1AA'\n",
    "pattern = '[a-zA-Z0-9_]'\n",
    "\n",
    "re.findall(pattern, words)"
   ]
  },
  {
   "cell_type": "code",
   "execution_count": 36,
   "metadata": {},
   "outputs": [
    {
     "data": {
      "text/plain": [
       "['XRA', '', '000', '', '', '1AA', '', '1AA', '']"
      ]
     },
     "execution_count": 36,
     "metadata": {},
     "output_type": "execute_result"
    }
   ],
   "source": [
    "# Menampilkan huruf kecil/huruf besar/angka/underscore yang berulang minimal 0 kali\n",
    "# ketika karakternya tidak cocok dengan pattern, maka akan ditampilkan sebagai string kosong\n",
    "\n",
    "words = 'XRA 000, 1AA 1AA'\n",
    "pattern = '\\w*'\n",
    "\n",
    "re.findall(pattern, words)"
   ]
  },
  {
   "cell_type": "code",
   "execution_count": 37,
   "metadata": {},
   "outputs": [
    {
     "data": {
      "text/plain": [
       "['000']"
      ]
     },
     "execution_count": 37,
     "metadata": {},
     "output_type": "execute_result"
    }
   ],
   "source": [
    "# Menampilkan angka 3 digit\n",
    "\n",
    "words = 'XRA 000, 1AA 1AA'\n",
    "pattern = '[0-9][0-9][0-9]'\n",
    "\n",
    "re.findall(pattern, words)\n",
    "\n",
    "# 000"
   ]
  },
  {
   "cell_type": "code",
   "execution_count": 38,
   "metadata": {},
   "outputs": [
    {
     "data": {
      "text/plain": [
       "['000']"
      ]
     },
     "execution_count": 38,
     "metadata": {},
     "output_type": "execute_result"
    }
   ],
   "source": [
    "# Menampilkan angka 3 digit\n",
    "\n",
    "words = 'XRA 000, 1AA 1AA'\n",
    "pattern = '[0-9]{3}'\n",
    "\n",
    "re.findall(pattern, words)"
   ]
  },
  {
   "cell_type": "code",
   "execution_count": 44,
   "metadata": {},
   "outputs": [
    {
     "data": {
      "text/plain": [
       "['000', '1', '1']"
      ]
     },
     "execution_count": 44,
     "metadata": {},
     "output_type": "execute_result"
    }
   ],
   "source": [
    "# Menampilkan angka 1 digit atau lebih\n",
    "\n",
    "words = 'XRA 000, 1AA 1AA'\n",
    "pattern = '[0-9]{1,}'\n",
    "\n",
    "re.findall(pattern, words)"
   ]
  },
  {
   "cell_type": "code",
   "execution_count": 45,
   "metadata": {},
   "outputs": [
    {
     "data": {
      "text/plain": [
       "['000', '1', '1']"
      ]
     },
     "execution_count": 45,
     "metadata": {},
     "output_type": "execute_result"
    }
   ],
   "source": [
    "# Menampilkan angka 1 digit atau lebih\n",
    "\n",
    "words = 'XRA 000, 1AA 1AA'\n",
    "pattern = '[0-9]+'\n",
    "\n",
    "re.findall(pattern, words)"
   ]
  },
  {
   "cell_type": "code",
   "execution_count": 46,
   "metadata": {},
   "outputs": [
    {
     "data": {
      "text/plain": [
       "['000', '9999']"
      ]
     },
     "execution_count": 46,
     "metadata": {},
     "output_type": "execute_result"
    }
   ],
   "source": [
    "# Menampilkan angka 3 digit atau lebih\n",
    "\n",
    "words = 'XRA 000, 1AA 1AA, 9999'\n",
    "pattern = '[0-9]{3,}'\n",
    "\n",
    "re.findall(pattern, words)"
   ]
  },
  {
   "cell_type": "code",
   "execution_count": 47,
   "metadata": {},
   "outputs": [
    {
     "data": {
      "text/plain": [
       "['000']"
      ]
     },
     "execution_count": 47,
     "metadata": {},
     "output_type": "execute_result"
    }
   ],
   "source": [
    "words = 'XRA 000, 1AA 1AA'\n",
    "pattern = '\\d{3}'\n",
    "\n",
    "re.findall(pattern, words)"
   ]
  },
  {
   "cell_type": "code",
   "execution_count": 48,
   "metadata": {},
   "outputs": [
    {
     "data": {
      "text/plain": [
       "['0', '0', '0', '1', '1']"
      ]
     },
     "execution_count": 48,
     "metadata": {},
     "output_type": "execute_result"
    }
   ],
   "source": [
    "# Mencari angka 1 digit\n",
    "\n",
    "words = 'XRA 000, 1AA 1AA'\n",
    "pattern = '\\d'\n",
    "\n",
    "re.findall(pattern, words)"
   ]
  },
  {
   "cell_type": "code",
   "execution_count": 50,
   "metadata": {},
   "outputs": [
    {
     "data": {
      "text/plain": [
       "['XRA', 'AA ']"
      ]
     },
     "execution_count": 50,
     "metadata": {},
     "output_type": "execute_result"
    }
   ],
   "source": [
    "words = 'XRA 000, 1AA 1AA'\n",
    "pattern = '[^0-9]{3}'\n",
    "\n",
    "re.findall(pattern, words)"
   ]
  },
  {
   "cell_type": "code",
   "execution_count": 51,
   "metadata": {},
   "outputs": [
    {
     "data": {
      "text/plain": [
       "['XRA', 'AA ']"
      ]
     },
     "execution_count": 51,
     "metadata": {},
     "output_type": "execute_result"
    }
   ],
   "source": [
    "words = 'XRA 000, 1AA 1AA'\n",
    "pattern = '\\D{3}'\n",
    "\n",
    "re.findall(pattern, words)"
   ]
  },
  {
   "cell_type": "code",
   "execution_count": 52,
   "metadata": {},
   "outputs": [
    {
     "data": {
      "text/plain": [
       "[' ', ' ', ' ']"
      ]
     },
     "execution_count": 52,
     "metadata": {},
     "output_type": "execute_result"
    }
   ],
   "source": [
    "# Menampilkan spasi\n",
    "\n",
    "words = 'XRA 000, 1AA 1AA'\n",
    "pattern = ' '\n",
    "\n",
    "re.findall(pattern, words)"
   ]
  },
  {
   "cell_type": "code",
   "execution_count": 53,
   "metadata": {},
   "outputs": [
    {
     "data": {
      "text/plain": [
       "[' ', ' ', ' ']"
      ]
     },
     "execution_count": 53,
     "metadata": {},
     "output_type": "execute_result"
    }
   ],
   "source": [
    "# Menampilkan spasi\n",
    "\n",
    "words = 'XRA 000, 1AA 1AA'\n",
    "pattern = '\\s'\n",
    "\n",
    "re.findall(pattern, words)"
   ]
  },
  {
   "cell_type": "code",
   "execution_count": 55,
   "metadata": {},
   "outputs": [
    {
     "data": {
      "text/plain": [
       "['XRA', '000,', '1AA', '1AA']"
      ]
     },
     "execution_count": 55,
     "metadata": {},
     "output_type": "execute_result"
    }
   ],
   "source": [
    "# Menampilkan spasi\n",
    "\n",
    "words = 'XRA 000, 1AA 1AA'\n",
    "pattern = '\\S+'\n",
    "\n",
    "re.findall(pattern, words)"
   ]
  },
  {
   "cell_type": "code",
   "execution_count": null,
   "metadata": {},
   "outputs": [],
   "source": []
  },
  {
   "cell_type": "markdown",
   "metadata": {},
   "source": [
    "### Grouping\n",
    "\n",
    "Digunakan untuk mencari karakter yang sama persis dengan regular expression yang tertulis dalam tanda kurung\n",
    "\n",
    "Kegunaan:\n",
    "- Menerapkan pengulangan ke dalam group atau kelompok.\n",
    "- Membuat regex menjadi mudah dibaca.\n",
    "- Memudahkan pengambilan kelompok karakter untuk pencocokkan pola"
   ]
  },
  {
   "cell_type": "code",
   "execution_count": 56,
   "metadata": {},
   "outputs": [
    {
     "data": {
      "text/plain": [
       "['abc', 'abcc', 'abcccccc']"
      ]
     },
     "execution_count": 56,
     "metadata": {},
     "output_type": "execute_result"
    }
   ],
   "source": [
    "# Menampilkan kata yg huruf pertamanya a, kemudian b, kemudian c, dan c nya bisa berulang lebih dari 1 kali\n",
    "\n",
    "kalimat = 'abc abcc abcccccc'\n",
    "pattern = 'abc+'\n",
    "\n",
    "re.findall(pattern, kalimat)"
   ]
  },
  {
   "cell_type": "code",
   "execution_count": 57,
   "metadata": {},
   "outputs": [
    {
     "data": {
      "text/plain": [
       "['abc', 'abc', 'abc']"
      ]
     },
     "execution_count": 57,
     "metadata": {},
     "output_type": "execute_result"
    }
   ],
   "source": [
    "kalimat = 'abc abcc abcccccc'\n",
    "pattern = '(abc)+'\n",
    "\n",
    "re.findall(pattern, kalimat)"
   ]
  },
  {
   "cell_type": "code",
   "execution_count": 61,
   "metadata": {},
   "outputs": [
    {
     "data": {
      "text/plain": [
       "['abc', 'abc', 'abc', 'abc']"
      ]
     },
     "execution_count": 61,
     "metadata": {},
     "output_type": "execute_result"
    }
   ],
   "source": [
    "# Mencari 'abc' yang muncul 1 kali atau bisa berulang, tapi hanya menampilkan 'abc' 1 kali saja\n",
    "\n",
    "kalimat = 'abc abcc abcccccc abcabc'\n",
    "pattern = '(abc)+'\n",
    "\n",
    "re.findall(pattern, kalimat)"
   ]
  },
  {
   "cell_type": "code",
   "execution_count": 62,
   "metadata": {},
   "outputs": [
    {
     "data": {
      "text/plain": [
       "['abc', 'abc', 'abc', 'abcabc']"
      ]
     },
     "execution_count": 62,
     "metadata": {},
     "output_type": "execute_result"
    }
   ],
   "source": [
    "# Mencari 'abc' yang muncul 1 kali atau bisa berulang, dan juga menampilkan 'abc' yang muncul 1 kali atau bisa berulang\n",
    "\n",
    "kalimat = 'abc abcc abcccccc abcabc'\n",
    "pattern = '(?:abc)+'\n",
    "\n",
    "re.findall(pattern, kalimat)"
   ]
  },
  {
   "cell_type": "code",
   "execution_count": null,
   "metadata": {},
   "outputs": [],
   "source": []
  },
  {
   "cell_type": "markdown",
   "metadata": {},
   "source": [
    "### Alternative\n",
    "\n",
    "Mirip dengan operator OR \n"
   ]
  },
  {
   "cell_type": "code",
   "execution_count": 63,
   "metadata": {},
   "outputs": [
    {
     "data": {
      "text/plain": [
       "['apple', 'orange']"
      ]
     },
     "execution_count": 63,
     "metadata": {},
     "output_type": "execute_result"
    }
   ],
   "source": [
    "# Mencari 'apple juice' atau 'orange juice', tapi yang ditampilkan hanya 'apple' atau 'orange'\n",
    "\n",
    "kalimat = 'apple juice, mango juice, orange juice, apple pie'\n",
    "pattern = '(apple|orange) juice'\n",
    "\n",
    "re.findall(pattern, kalimat)"
   ]
  },
  {
   "cell_type": "code",
   "execution_count": 64,
   "metadata": {},
   "outputs": [
    {
     "data": {
      "text/plain": [
       "['apple juice', 'orange juice']"
      ]
     },
     "execution_count": 64,
     "metadata": {},
     "output_type": "execute_result"
    }
   ],
   "source": [
    "# Mencari 'apple juice' atau 'orange juice', dan yang ditampilkan juga 'apple juice' atau 'orange juice'\n",
    "\n",
    "kalimat = 'apple juice, mango juice, orange juice, apple pie'\n",
    "pattern = '(?:apple|orange) juice'\n",
    "\n",
    "re.findall(pattern, kalimat)"
   ]
  },
  {
   "cell_type": "code",
   "execution_count": 65,
   "metadata": {},
   "outputs": [
    {
     "data": {
      "text/plain": [
       "['apple', 'orange', 'apple']"
      ]
     },
     "execution_count": 65,
     "metadata": {},
     "output_type": "execute_result"
    }
   ],
   "source": [
    "kalimat = 'apple juice, mango juice, orange juice, apple pie'\n",
    "pattern = '(apple|orange)'\n",
    "\n",
    "re.findall(pattern, kalimat)"
   ]
  },
  {
   "cell_type": "markdown",
   "metadata": {},
   "source": [
    "### Escape Character\n",
    "\n",
    "menggunakan backslash"
   ]
  },
  {
   "cell_type": "code",
   "execution_count": null,
   "metadata": {},
   "outputs": [],
   "source": [
    "# jika tidak menggunakan \\, maka . artinya wildcard (karakter apapun akan match) \n",
    "\n",
    "kalimat = 'saya minum JUS mangga harga 5000.'\n",
    "pattern = '.'\n",
    "\n",
    "re.findall(pattern, kalimat)"
   ]
  },
  {
   "cell_type": "code",
   "execution_count": 82,
   "metadata": {},
   "outputs": [
    {
     "data": {
      "text/plain": [
       "['.']"
      ]
     },
     "execution_count": 82,
     "metadata": {},
     "output_type": "execute_result"
    }
   ],
   "source": [
    "# jika menggunakan \\, maka artinya kita ingin mencari karakter . itu sendiri\n",
    "\n",
    "kalimat = 'saya minum JUS mangga harga 5000.'\n",
    "pattern = '\\.'\n",
    "\n",
    "re.findall(pattern, kalimat)"
   ]
  },
  {
   "cell_type": "markdown",
   "metadata": {},
   "source": [
    "### mbox-short"
   ]
  },
  {
   "cell_type": "code",
   "execution_count": 66,
   "metadata": {},
   "outputs": [],
   "source": [
    "with open('mbox-short.txt', 'r') as infile:\n",
    "    text = infile.read()"
   ]
  },
  {
   "cell_type": "code",
   "execution_count": 93,
   "metadata": {},
   "outputs": [
    {
     "data": {
      "text/plain": [
       "243"
      ]
     },
     "execution_count": 93,
     "metadata": {},
     "output_type": "execute_result"
    }
   ],
   "source": [
    "pattern = '\\d{1,3}\\.\\d{1,3}\\.\\d{1,3}\\.\\d{1,3}.'\n",
    "\n",
    "hasil = re.findall(pattern, text)\n",
    "len(hasil)"
   ]
  },
  {
   "cell_type": "code",
   "execution_count": 92,
   "metadata": {},
   "outputs": [
    {
     "data": {
      "text/plain": [
       "243"
      ]
     },
     "execution_count": 92,
     "metadata": {},
     "output_type": "execute_result"
    }
   ],
   "source": [
    "pattern = '(?:\\d{1,3}\\.){3}\\d{1,3}.'\n",
    "\n",
    "hasil = re.findall(pattern, text)\n",
    "len(hasil)"
   ]
  },
  {
   "cell_type": "markdown",
   "metadata": {},
   "source": [
    "### Word Boundaries\n",
    "\n",
    "\\b"
   ]
  },
  {
   "cell_type": "code",
   "execution_count": 112,
   "metadata": {},
   "outputs": [
    {
     "data": {
      "text/plain": [
       "['ooops', 'ooops', 'oooooops']"
      ]
     },
     "execution_count": 112,
     "metadata": {},
     "output_type": "execute_result"
    }
   ],
   "source": [
    "kalimat = 'ini adalah ops oops ooops oooops oooooops'\n",
    "pattern = '(?:ooo)+ps'\n",
    "\n",
    "re.findall(pattern, kalimat)"
   ]
  },
  {
   "cell_type": "code",
   "execution_count": 117,
   "metadata": {},
   "outputs": [
    {
     "data": {
      "text/plain": [
       "['ooops', 'oooooops']"
      ]
     },
     "execution_count": 117,
     "metadata": {},
     "output_type": "execute_result"
    }
   ],
   "source": [
    "kalimat = 'ini adalah ops oops ooops oooops oooooops'\n",
    "pattern = r'\\b(?:ooo)+ps'\n",
    "\n",
    "re.findall(pattern, kalimat)\n"
   ]
  },
  {
   "cell_type": "markdown",
   "metadata": {},
   "source": [
    "### Raw String\n",
    "\n",
    "r' ' --> maksudnya adalah raw string"
   ]
  },
  {
   "cell_type": "code",
   "execution_count": 114,
   "metadata": {},
   "outputs": [
    {
     "name": "stdout",
     "output_type": "stream",
     "text": [
      "Ini adalah hell world\n"
     ]
    }
   ],
   "source": [
    "print('Ini adalah hello\\b world')\n",
    "\n",
    "# di python, \\b artinya adalah backspace"
   ]
  },
  {
   "cell_type": "code",
   "execution_count": 115,
   "metadata": {},
   "outputs": [
    {
     "name": "stdout",
     "output_type": "stream",
     "text": [
      "Ini adalah hello\\b world\n"
     ]
    }
   ],
   "source": [
    "print(r'Ini adalah hello\\b world')\n",
    "\n",
    "# dengan menambahkan raw string di depannya, maka \\b terbaca sebagaimana adanya"
   ]
  },
  {
   "cell_type": "code",
   "execution_count": null,
   "metadata": {},
   "outputs": [],
   "source": []
  },
  {
   "cell_type": "code",
   "execution_count": 130,
   "metadata": {},
   "outputs": [
    {
     "data": {
      "text/plain": [
       "['23.', '39.']"
      ]
     },
     "execution_count": 130,
     "metadata": {},
     "output_type": "execute_result"
    }
   ],
   "source": [
    "# kita mencari yg karakter pertamanya a, lalu diikuti 2 digit angka, kemudian diikuti titik\n",
    "# tapi yang ditampilkan hanya 2 digit angka, kemudian diikuti titik \n",
    "\n",
    "kalimat = 'This is IP address 111.a23.a39.99'\n",
    "pattern = 'a(\\d{2}\\.)'\n",
    "\n",
    "re.findall(pattern, kalimat)\n",
    "\n",
    "# 23. 39."
   ]
  },
  {
   "cell_type": "code",
   "execution_count": 128,
   "metadata": {},
   "outputs": [
    {
     "data": {
      "text/plain": [
       "['23.', '39.']"
      ]
     },
     "execution_count": 128,
     "metadata": {},
     "output_type": "execute_result"
    }
   ],
   "source": [
    "kalimat = 'This is IP address 111.a23.a39.99'\n",
    "pattern = 'a(\\d{2}.)'\n",
    "\n",
    "re.findall(pattern, kalimat)"
   ]
  },
  {
   "cell_type": "code",
   "execution_count": 124,
   "metadata": {},
   "outputs": [
    {
     "data": {
      "text/plain": [
       "['a', 'a', 'a']"
      ]
     },
     "execution_count": 124,
     "metadata": {},
     "output_type": "execute_result"
    }
   ],
   "source": [
    "kalimat = 'This is IP address 111.a23.a39.99'\n",
    "pattern = 'a'\n",
    "\n",
    "re.findall(pattern, kalimat)"
   ]
  },
  {
   "cell_type": "code",
   "execution_count": 123,
   "metadata": {},
   "outputs": [
    {
     "data": {
      "text/plain": [
       "['a', 'a']"
      ]
     },
     "execution_count": 123,
     "metadata": {},
     "output_type": "execute_result"
    }
   ],
   "source": [
    "kalimat = 'This is IP address 111.a23.a39.99'\n",
    "pattern = 'a(?=\\d{2}\\.)'\n",
    "\n",
    "re.findall(pattern, kalimat)"
   ]
  },
  {
   "cell_type": "code",
   "execution_count": null,
   "metadata": {},
   "outputs": [],
   "source": []
  },
  {
   "cell_type": "code",
   "execution_count": null,
   "metadata": {},
   "outputs": [],
   "source": []
  },
  {
   "cell_type": "code",
   "execution_count": null,
   "metadata": {},
   "outputs": [],
   "source": []
  },
  {
   "cell_type": "code",
   "execution_count": null,
   "metadata": {},
   "outputs": [],
   "source": []
  },
  {
   "cell_type": "code",
   "execution_count": null,
   "metadata": {},
   "outputs": [],
   "source": []
  },
  {
   "cell_type": "code",
   "execution_count": null,
   "metadata": {},
   "outputs": [],
   "source": []
  },
  {
   "cell_type": "code",
   "execution_count": null,
   "metadata": {},
   "outputs": [],
   "source": []
  },
  {
   "cell_type": "code",
   "execution_count": null,
   "metadata": {},
   "outputs": [],
   "source": []
  },
  {
   "cell_type": "code",
   "execution_count": null,
   "metadata": {},
   "outputs": [],
   "source": []
  },
  {
   "cell_type": "code",
   "execution_count": null,
   "metadata": {},
   "outputs": [],
   "source": []
  },
  {
   "cell_type": "code",
   "execution_count": null,
   "metadata": {},
   "outputs": [],
   "source": []
  },
  {
   "cell_type": "code",
   "execution_count": null,
   "metadata": {},
   "outputs": [],
   "source": []
  },
  {
   "cell_type": "code",
   "execution_count": null,
   "metadata": {},
   "outputs": [],
   "source": []
  }
 ],
 "metadata": {
  "interpreter": {
   "hash": "37eb40c3388cfde35488e2d005b0d69ca91ddeff8a429754d4da636d3f888e5e"
  },
  "kernelspec": {
   "display_name": "Python 3.7.11 ('base')",
   "language": "python",
   "name": "python3"
  },
  "language_info": {
   "codemirror_mode": {
    "name": "ipython",
    "version": 3
   },
   "file_extension": ".py",
   "mimetype": "text/x-python",
   "name": "python",
   "nbconvert_exporter": "python",
   "pygments_lexer": "ipython3",
   "version": "3.7.11"
  },
  "orig_nbformat": 4
 },
 "nbformat": 4,
 "nbformat_minor": 2
}
